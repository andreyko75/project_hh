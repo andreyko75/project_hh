{
 "cells": [
  {
   "cell_type": "markdown",
   "id": "829cb75b-f14e-4ba8-9195-7ba929a7d656",
   "metadata": {
    "tags": []
   },
   "source": [
    "# <center> Решение заданий из урока\n",
    "   "
   ]
  },
  {
   "cell_type": "code",
   "execution_count": 45,
   "id": "dccfde33-2452-43fb-a8a5-5c6ebc02a71d",
   "metadata": {},
   "outputs": [],
   "source": [
    "import pandas as pd\n",
    "import numpy as np\n",
    "import matplotlib.pyplot as plt\n",
    "import seaborn as sns\n",
    "import plotly.express as px"
   ]
  },
  {
   "cell_type": "markdown",
   "source": [
    "Чтение данных. Разделитель - Точка с запятой."
   ],
   "metadata": {
    "collapsed": false
   }
  },
  {
   "cell_type": "code",
   "execution_count": 46,
   "outputs": [],
   "source": [
    "hh_df=pd.read_csv('data/dst-3.0_16_1_hh_database.csv', sep=';')"
   ],
   "metadata": {
    "collapsed": false
   }
  },
  {
   "cell_type": "markdown",
   "id": "b583485d-1f9e-494e-ada4-80ffff7c53d6",
   "metadata": {},
   "source": [
    "Проверка структуры данных"
   ]
  },
  {
   "cell_type": "code",
   "execution_count": 47,
   "id": "5408c52c-3407-4a63-b25b-1aafa2322d28",
   "metadata": {},
   "outputs": [
    {
     "data": {
      "text/plain": "                                   Пол, возраст           ЗП  \\\n0    Мужчина ,  39 лет , родился 27 ноября 1979   29000 руб.   \n1     Мужчина ,  60 лет , родился 20 марта 1959   40000 руб.   \n2  Женщина ,  36 лет , родилась 12 августа 1982   20000 руб.   \n3      Мужчина ,  38 лет , родился 25 июня 1980  100000 руб.   \n4     Женщина ,  26 лет , родилась 3 марта 1993  140000 руб.   \n\n                           Ищет работу на должность:  \\\n0                            Системный администратор   \n1                               Технический писатель   \n2                                           Оператор   \n3  Веб-разработчик (HTML / CSS / JS / PHP / базы ...   \n4                  Региональный менеджер по продажам   \n\n                        Город, переезд, командировки  \\\n0  Советск (Калининградская область) , не готов к...   \n1  Королев , не готов к переезду , готов к редким...   \n2  Тверь , не готова к переезду , не готова к ком...   \n3  Саратов , не готов к переезду , готов к редким...   \n4  Москва , не готова к переезду , готова к коман...   \n\n                                           Занятость  \\\n0  частичная занятость, проектная работа, полная ...   \n1  частичная занятость, проектная работа, полная ...   \n2                                   полная занятость   \n3  частичная занятость, проектная работа, полная ...   \n4                                   полная занятость   \n\n                                              График  \\\n0  гибкий график, полный день, сменный график, ва...   \n1  гибкий график, полный день, сменный график, уд...   \n2                                        полный день   \n3                    гибкий график, удаленная работа   \n4                                        полный день   \n\n                                         Опыт работы  \\\n0  Опыт работы 16 лет 10 месяцев  Август 2010 — п...   \n1  Опыт работы 19 лет 5 месяцев  Январь 2000 — по...   \n2  Опыт работы 10 лет 3 месяца  Октябрь 2004 — Де...   \n3  Опыт работы 18 лет 9 месяцев  Август 2017 — Ап...   \n4  Опыт работы 5 лет 7 месяцев  Региональный мене...   \n\n  Последнее/нынешнее место работы  \\\n0         МАОУ \"СОШ № 1 г.Немана\"   \n1    Временный трудовой коллектив   \n2                    ПАО Сбербанк   \n3                        OpenSoft   \n4                        Мармелад   \n\n                       Последняя/нынешняя должность  \\\n0                           Системный администратор   \n1  Менеджер проекта, Аналитик, Технический писатель   \n2                               Кассир-операционист   \n3                               Инженер-программист   \n4                              Менеджер по продажам   \n\n                                   Образование и ВУЗ Обновление резюме  \\\n0  Неоконченное высшее образование 2000  Балтийск...  16.04.2019 15:59   \n1  Высшее образование 1981  Военно-космическая ак...  12.04.2019 08:42   \n2  Среднее специальное образование 2002 Профессио...  16.04.2019 08:35   \n3  Высшее образование 2002  Саратовский государст...  08.04.2019 14:23   \n4  Высшее образование 2015 Кгу Психологии и педаг...  22.04.2019 10:32   \n\n                             Авто  \n0  Имеется собственный автомобиль  \n1                      Не указано  \n2                      Не указано  \n3                      Не указано  \n4                      Не указано  ",
      "text/html": "<div>\n<style scoped>\n    .dataframe tbody tr th:only-of-type {\n        vertical-align: middle;\n    }\n\n    .dataframe tbody tr th {\n        vertical-align: top;\n    }\n\n    .dataframe thead th {\n        text-align: right;\n    }\n</style>\n<table border=\"1\" class=\"dataframe\">\n  <thead>\n    <tr style=\"text-align: right;\">\n      <th></th>\n      <th>Пол, возраст</th>\n      <th>ЗП</th>\n      <th>Ищет работу на должность:</th>\n      <th>Город, переезд, командировки</th>\n      <th>Занятость</th>\n      <th>График</th>\n      <th>Опыт работы</th>\n      <th>Последнее/нынешнее место работы</th>\n      <th>Последняя/нынешняя должность</th>\n      <th>Образование и ВУЗ</th>\n      <th>Обновление резюме</th>\n      <th>Авто</th>\n    </tr>\n  </thead>\n  <tbody>\n    <tr>\n      <th>0</th>\n      <td>Мужчина ,  39 лет , родился 27 ноября 1979</td>\n      <td>29000 руб.</td>\n      <td>Системный администратор</td>\n      <td>Советск (Калининградская область) , не готов к...</td>\n      <td>частичная занятость, проектная работа, полная ...</td>\n      <td>гибкий график, полный день, сменный график, ва...</td>\n      <td>Опыт работы 16 лет 10 месяцев  Август 2010 — п...</td>\n      <td>МАОУ \"СОШ № 1 г.Немана\"</td>\n      <td>Системный администратор</td>\n      <td>Неоконченное высшее образование 2000  Балтийск...</td>\n      <td>16.04.2019 15:59</td>\n      <td>Имеется собственный автомобиль</td>\n    </tr>\n    <tr>\n      <th>1</th>\n      <td>Мужчина ,  60 лет , родился 20 марта 1959</td>\n      <td>40000 руб.</td>\n      <td>Технический писатель</td>\n      <td>Королев , не готов к переезду , готов к редким...</td>\n      <td>частичная занятость, проектная работа, полная ...</td>\n      <td>гибкий график, полный день, сменный график, уд...</td>\n      <td>Опыт работы 19 лет 5 месяцев  Январь 2000 — по...</td>\n      <td>Временный трудовой коллектив</td>\n      <td>Менеджер проекта, Аналитик, Технический писатель</td>\n      <td>Высшее образование 1981  Военно-космическая ак...</td>\n      <td>12.04.2019 08:42</td>\n      <td>Не указано</td>\n    </tr>\n    <tr>\n      <th>2</th>\n      <td>Женщина ,  36 лет , родилась 12 августа 1982</td>\n      <td>20000 руб.</td>\n      <td>Оператор</td>\n      <td>Тверь , не готова к переезду , не готова к ком...</td>\n      <td>полная занятость</td>\n      <td>полный день</td>\n      <td>Опыт работы 10 лет 3 месяца  Октябрь 2004 — Де...</td>\n      <td>ПАО Сбербанк</td>\n      <td>Кассир-операционист</td>\n      <td>Среднее специальное образование 2002 Профессио...</td>\n      <td>16.04.2019 08:35</td>\n      <td>Не указано</td>\n    </tr>\n    <tr>\n      <th>3</th>\n      <td>Мужчина ,  38 лет , родился 25 июня 1980</td>\n      <td>100000 руб.</td>\n      <td>Веб-разработчик (HTML / CSS / JS / PHP / базы ...</td>\n      <td>Саратов , не готов к переезду , готов к редким...</td>\n      <td>частичная занятость, проектная работа, полная ...</td>\n      <td>гибкий график, удаленная работа</td>\n      <td>Опыт работы 18 лет 9 месяцев  Август 2017 — Ап...</td>\n      <td>OpenSoft</td>\n      <td>Инженер-программист</td>\n      <td>Высшее образование 2002  Саратовский государст...</td>\n      <td>08.04.2019 14:23</td>\n      <td>Не указано</td>\n    </tr>\n    <tr>\n      <th>4</th>\n      <td>Женщина ,  26 лет , родилась 3 марта 1993</td>\n      <td>140000 руб.</td>\n      <td>Региональный менеджер по продажам</td>\n      <td>Москва , не готова к переезду , готова к коман...</td>\n      <td>полная занятость</td>\n      <td>полный день</td>\n      <td>Опыт работы 5 лет 7 месяцев  Региональный мене...</td>\n      <td>Мармелад</td>\n      <td>Менеджер по продажам</td>\n      <td>Высшее образование 2015 Кгу Психологии и педаг...</td>\n      <td>22.04.2019 10:32</td>\n      <td>Не указано</td>\n    </tr>\n  </tbody>\n</table>\n</div>"
     },
     "execution_count": 47,
     "metadata": {},
     "output_type": "execute_result"
    }
   ],
   "source": [
    "hh_df.head(5)"
   ]
  },
  {
   "cell_type": "markdown",
   "id": "41bb59f3-53cc-4a67-a5bc-bedf573955e4",
   "metadata": {},
   "source": [
    "**Задание 2.1.**\n",
    " Чему равна размерность таблицы? Введите её в виде кортежа (число строк, число столбцов).\n"
   ]
  },
  {
   "cell_type": "code",
   "execution_count": 48,
   "id": "d286cf4c-707b-4cd2-9190-7ab3587d04a1",
   "metadata": {},
   "outputs": [
    {
     "name": "stdout",
     "output_type": "stream",
     "text": [
      "(44744, 12)\n"
     ]
    }
   ],
   "source": [
    "print(hh_df.shape)\n"
   ]
  },
  {
   "cell_type": "markdown",
   "id": "9a8a2181-6914-448b-85f1-38f5f18b8a93",
   "metadata": {},
   "source": [
    "**Задание 2.2.**\n",
    " В каком формате представлен порядок слов в признаке «Пол, возраст»?\n"
   ]
  },
  {
   "cell_type": "code",
   "execution_count": 49,
   "id": "be4e9bd3-a4db-4a20-82fb-6b02fc2957e0",
   "metadata": {},
   "outputs": [
    {
     "name": "stdout",
     "output_type": "stream",
     "text": [
      "0      Мужчина ,  39 лет , родился 27 ноября 1979\n",
      "1       Мужчина ,  60 лет , родился 20 марта 1959\n",
      "2    Женщина ,  36 лет , родилась 12 августа 1982\n",
      "3        Мужчина ,  38 лет , родился 25 июня 1980\n",
      "4       Женщина ,  26 лет , родилась 3 марта 1993\n",
      "Name: Пол, возраст, dtype: object\n"
     ]
    }
   ],
   "source": [
    "print(hh_df['Пол, возраст'].head())"
   ]
  },
  {
   "cell_type": "markdown",
   "id": "93053d3d-b284-481a-9cf7-012d7014c0e0",
   "metadata": {},
   "source": [
    "**Задание 2.3.**\n",
    "Выведите основную информацию о числе непустых значений в столбцах и их типах в таблице.\n",
    "Какой тип данных имеют все столбцы? <span style=\"color:blue\">(***все поля типа object***)</span>\n"
   ]
  },
  {
   "cell_type": "code",
   "execution_count": 50,
   "id": "3f069da6-fdc9-4ae7-b514-fafe2675efd3",
   "metadata": {},
   "outputs": [
    {
     "name": "stdout",
     "output_type": "stream",
     "text": [
      "<class 'pandas.core.frame.DataFrame'>\n",
      "RangeIndex: 44744 entries, 0 to 44743\n",
      "Data columns (total 12 columns):\n",
      " #   Column                           Non-Null Count  Dtype \n",
      "---  ------                           --------------  ----- \n",
      " 0   Пол, возраст                     44744 non-null  object\n",
      " 1   ЗП                               44744 non-null  object\n",
      " 2   Ищет работу на должность:        44744 non-null  object\n",
      " 3   Город, переезд, командировки     44744 non-null  object\n",
      " 4   Занятость                        44744 non-null  object\n",
      " 5   График                           44744 non-null  object\n",
      " 6   Опыт работы                      44576 non-null  object\n",
      " 7   Последнее/нынешнее место работы  44743 non-null  object\n",
      " 8   Последняя/нынешняя должность     44742 non-null  object\n",
      " 9   Образование и ВУЗ                44744 non-null  object\n",
      " 10  Обновление резюме                44744 non-null  object\n",
      " 11  Авто                             44744 non-null  object\n",
      "dtypes: object(12)\n",
      "memory usage: 4.1+ MB\n",
      "None\n"
     ]
    }
   ],
   "source": [
    "print(hh_df.info())"
   ]
  },
  {
   "cell_type": "markdown",
   "id": "4266f0b6-1646-492a-88b4-2f6a46502135",
   "metadata": {},
   "source": [
    "**Задание 2.4.**\n",
    "Обратите внимание на информацию о числе непустых значений.\n",
    "Выберите все признаки, в которых есть пропуски в данных:\n",
    "<span style=\"color:blue\">(***три колонки с непустыми значениями и количество пропусков***)</span>"
   ]
  },
  {
   "cell_type": "code",
   "execution_count": 51,
   "id": "0c44b350-72eb-4d65-8b54-a1fc449ba9fd",
   "metadata": {},
   "outputs": [
    {
     "name": "stdout",
     "output_type": "stream",
     "text": [
      "Пол, возраст                         0\n",
      "ЗП                                   0\n",
      "Ищет работу на должность:            0\n",
      "Город, переезд, командировки         0\n",
      "Занятость                            0\n",
      "График                               0\n",
      "Опыт работы                        168\n",
      "Последнее/нынешнее место работы      1\n",
      "Последняя/нынешняя должность         2\n",
      "Образование и ВУЗ                    0\n",
      "Обновление резюме                    0\n",
      "Авто                                 0\n",
      "dtype: int64\n"
     ]
    }
   ],
   "source": [
    "print(hh_df.isnull().sum())"
   ]
  },
  {
   "cell_type": "markdown",
   "id": "635c4d5d-f323-4c66-b428-50a088120aa0",
   "metadata": {},
   "source": [
    "**Задание 2.5**\n",
    "Сколько уникальных значений содержится в столбце «Опыт работы»?\n",
    "<span style=\"color:blue\">(***44413***)</span>\n",
    "Какая из искомых должностей самая распространённая? Введите название.\n",
    "<span style=\"color:blue\">(***Системный администратор***)</span>\n"
   ]
  },
  {
   "cell_type": "code",
   "execution_count": 52,
   "id": "603cdbe4-0ec3-4106-8eaf-c73fcdd29165",
   "metadata": {},
   "outputs": [
    {
     "name": "stdout",
     "output_type": "stream",
     "text": [
      "44413\n",
      "Системный администратор    6.926068\n",
      "Инженер                    2.158949\n",
      "Name: Ищет работу на должность:, dtype: float64\n"
     ]
    }
   ],
   "source": [
    "print(hh_df['Опыт работы'].nunique())\n",
    "print(hh_df['Ищет работу на должность:'].value_counts(normalize=True).head(2)*100)"
   ]
  },
  {
   "cell_type": "markdown",
   "id": "f3fdaec9-5fd3-4260-9cf5-1d7406b628a5",
   "metadata": {},
   "source": [
    "\n",
    "**Создание с помощью функции-преобразования новый признак «Образование», который должен иметь четыре категории: «высшее» «неоконченное высшее», «среднее специальное» и «среднее». и удаление признака \"Образование и ВУЗ\".\n",
    "Сколько соискателей имеет средний уровень образования (школьное образование)?**\n",
    "<span style=\"color:blue\">(***Среднее 559***)</span>\n",
    "\n"
   ]
  },
  {
   "cell_type": "code",
   "execution_count": 53,
   "outputs": [
    {
     "name": "stdout",
     "output_type": "stream",
     "text": [
      "высшее                 33863\n",
      "среднее специальное     5765\n",
      "неоконченное высшее     4557\n",
      "среднее                  559\n",
      "Name: Образование и ВУЗ, dtype: int64\n",
      "                                       Образование и ВУЗ          Образование\n",
      "3453   Высшее образование 2008 KIMEP Международные от...               высшее\n",
      "35805  Высшее образование 2012  Московский финансово-...               высшее\n",
      "40539  Неоконченное высшее образование 2020  Алтайски...  неоконченное высшее\n",
      "2006   Высшее образование 2014  Финансовый университе...               высшее\n",
      "17733  Среднее образование 2007 ГУАП, Неоконченное вы...              среднее\n",
      "23836  Высшее образование 2011  Уральский федеральный...               высшее\n",
      "41171  Среднее специальное образование 2012 ПГНК нефт...  среднее специальное\n",
      "4170   Высшее образование 2008 Московский Государстве...               высшее\n",
      "23250  Высшее образование 2010  Московский энергетиче...               высшее\n",
      "26825  Высшее образование 2006  Сыктывкарский государ...               высшее\n"
     ]
    }
   ],
   "source": [
    "def get_edu(edu):\n",
    "    edu_list=edu.split(' ')\n",
    "    edu_type=edu_list[0:2]\n",
    "    if edu_type[-1]=='образование':\n",
    "        edu_type=edu_type[0]\n",
    "    else:\n",
    "        edu_type=\" \".join(edu_list[0:2])\n",
    "    return edu_type.lower()\n",
    "edu=hh_df['Образование и ВУЗ'].apply(get_edu)\n",
    "print(edu.value_counts())\n",
    "hh_df['Образование']=edu\n",
    "print(hh_df[['Образование и ВУЗ','Образование']].sample(10))\n"
   ],
   "metadata": {
    "collapsed": false
   }
  },
  {
   "cell_type": "markdown",
   "source": [
    "***Удаляем лишнюю колонку***"
   ],
   "metadata": {
    "collapsed": false
   }
  },
  {
   "cell_type": "code",
   "execution_count": 54,
   "outputs": [],
   "source": [
    "hh_df=hh_df.drop('Образование и ВУЗ',axis=1)"
   ],
   "metadata": {
    "collapsed": false
   }
  },
  {
   "cell_type": "markdown",
   "source": [
    "Создание двух новых признаков «Пол» и «Возраст»."
   ],
   "metadata": {
    "collapsed": false
   }
  },
  {
   "cell_type": "code",
   "execution_count": 55,
   "outputs": [
    {
     "name": "stdout",
     "output_type": "stream",
     "text": [
      "['М' 'Ж']\n",
      "[ 39  60  36  38  26  29  46  34  35  59  27  21  31  37  30  33  42  32\n",
      "  23  28  25  24  43  53  49  44  48  54  22  20  40  62  72  45  41  61\n",
      "  50  58  57  52  56  18  19  51  16  47  71  63  55  64  68  17  73  66\n",
      "  65  77  67  69  76  70  14  15 100]\n"
     ]
    }
   ],
   "source": [
    "def sex_age(mix_sex_age,ret_type='a'):\n",
    "    sex_age_list=mix_sex_age.split(',')\n",
    "    sex=list(sex_age_list[0])[0]\n",
    "    age=int(sex_age_list[1].split(' ')[2])\n",
    "    if ret_type!='s':\n",
    "        return age\n",
    "    return sex\n",
    "sex=hh_df['Пол, возраст'].apply(sex_age,args='s')\n",
    "age=hh_df['Пол, возраст'].apply(sex_age)\n",
    "print(sex.unique())\n",
    "print(age.unique())"
   ],
   "metadata": {
    "collapsed": false
   }
  },
  {
   "cell_type": "markdown",
   "source": [],
   "metadata": {
    "collapsed": false
   }
  },
  {
   "cell_type": "markdown",
   "source": [
    "**Задание 3.2.**\n",
    "Сколько процентов женских резюме представлено в наших данных? Ответ округлите до сотых.\n",
    "<span style=\"color:blue\">(***19,07***)</span>\n",
    "Чему равен средний возраст соискателей? Ответ округлите до десятых.\n",
    "<span style=\"color:blue\">(***32,2***)</span>"
   ],
   "metadata": {
    "collapsed": false
   }
  },
  {
   "cell_type": "code",
   "execution_count": 56,
   "outputs": [
    {
     "name": "stdout",
     "output_type": "stream",
     "text": [
      "М    80.93\n",
      "Ж    19.07\n",
      "Name: Пол, возраст, dtype: float64\n",
      "32.2\n"
     ]
    }
   ],
   "source": [
    "print(round(sex.value_counts(normalize=1)*100,2))\n",
    "print(round(age.mean(),2))"
   ],
   "metadata": {
    "collapsed": false
   }
  },
  {
   "cell_type": "markdown",
   "source": [
    "Добавляем полученные колонки и удаляем ненужную, преобразоваваем возраст в int8"
   ],
   "metadata": {
    "collapsed": false
   }
  },
  {
   "cell_type": "code",
   "execution_count": 57,
   "outputs": [
    {
     "name": "stdout",
     "output_type": "stream",
     "text": [
      "<class 'pandas.core.frame.DataFrame'>\n",
      "RangeIndex: 44744 entries, 0 to 44743\n",
      "Data columns (total 13 columns):\n",
      " #   Column                           Non-Null Count  Dtype \n",
      "---  ------                           --------------  ----- \n",
      " 0   ЗП                               44744 non-null  object\n",
      " 1   Ищет работу на должность:        44744 non-null  object\n",
      " 2   Город, переезд, командировки     44744 non-null  object\n",
      " 3   Занятость                        44744 non-null  object\n",
      " 4   График                           44744 non-null  object\n",
      " 5   Опыт работы                      44576 non-null  object\n",
      " 6   Последнее/нынешнее место работы  44743 non-null  object\n",
      " 7   Последняя/нынешняя должность     44742 non-null  object\n",
      " 8   Обновление резюме                44744 non-null  object\n",
      " 9   Авто                             44744 non-null  object\n",
      " 10  Образование                      44744 non-null  object\n",
      " 11  Пол                              44744 non-null  object\n",
      " 12  Возраст                          44744 non-null  int8  \n",
      "dtypes: int8(1), object(12)\n",
      "memory usage: 4.1+ MB\n"
     ]
    }
   ],
   "source": [
    "hh_df['Пол']=sex\n",
    "hh_df['Возраст']=age\n",
    "hh_df=hh_df.drop('Пол, возраст',axis=1)\n",
    "hh_df['Возраст']=hh_df['Возраст'].astype('int8')\n",
    "hh_df.info()"
   ],
   "metadata": {
    "collapsed": false
   }
  },
  {
   "cell_type": "markdown",
   "source": [
    "Разбираем Опыт работы. Вытаскиваем стаж работы в месяцах"
   ],
   "metadata": {
    "collapsed": false
   }
  },
  {
   "cell_type": "code",
   "execution_count": 58,
   "outputs": [
    {
     "name": "stdout",
     "output_type": "stream",
     "text": [
      "0        Опыт работы 16 лет 10 месяцев  Август 2010 — п...\n",
      "1        Опыт работы 19 лет 5 месяцев  Январь 2000 — по...\n",
      "2        Опыт работы 10 лет 3 месяца  Октябрь 2004 — Де...\n",
      "3        Опыт работы 18 лет 9 месяцев  Август 2017 — Ап...\n",
      "4        Опыт работы 5 лет 7 месяцев  Региональный мене...\n",
      "                               ...                        \n",
      "44739    Опыт работы 7 лет 7 месяцев  Финансист, аналит...\n",
      "44740    Опыт работы 7 лет  Системный администратор, IT...\n",
      "44741    Опыт работы 21 год 5 месяцев  Январь 1998 — по...\n",
      "44742    Опыт работы 3 года 10 месяцев  Контент-менедже...\n",
      "44743    Опыт работы 15 лет 10 месяцев  Руководитель пр...\n",
      "Name: Опыт работы, Length: 44744, dtype: object\n"
     ]
    }
   ],
   "source": [
    "print(hh_df['Опыт работы'])"
   ],
   "metadata": {
    "collapsed": false
   }
  },
  {
   "cell_type": "code",
   "execution_count": 59,
   "outputs": [],
   "source": [
    "def exp_month_func(exp_draft):\n",
    "    if type(exp_draft)!=str or exp_draft==\"Не указано\":\n",
    "        return None\n",
    "    exp_list=exp_draft.split(' ')[2:6]\n",
    "    if exp_list[3][0:3]=='мес':\n",
    "        return int(exp_list[0])*12+int(exp_list[2])\n",
    "    if exp_list[1][0]=='г' or exp_list[1][0]=='л' :\n",
    "        return int(exp_list[0])*12\n",
    "    return int(exp_list[0])\n",
    "\n",
    "exp_month=hh_df['Опыт работы'].apply(exp_month_func)\n",
    "\n"
   ],
   "metadata": {
    "collapsed": false
   }
  },
  {
   "cell_type": "markdown",
   "source": [
    "**Задание 3.3.**\n",
    "Чему равен медианный опыт работы (в месяцах) в нашей таблице?\n",
    "<span style=\"color:blue\">(***100***)</span>"
   ],
   "metadata": {
    "collapsed": false
   }
  },
  {
   "cell_type": "code",
   "execution_count": 60,
   "outputs": [
    {
     "name": "stdout",
     "output_type": "stream",
     "text": [
      "100.0\n"
     ]
    }
   ],
   "source": [
    "print(exp_month.median())"
   ],
   "metadata": {
    "collapsed": false
   }
  },
  {
   "cell_type": "code",
   "execution_count": 61,
   "outputs": [
    {
     "name": "stdout",
     "output_type": "stream",
     "text": [
      "<class 'pandas.core.frame.DataFrame'>\n",
      "RangeIndex: 44744 entries, 0 to 44743\n",
      "Data columns (total 13 columns):\n",
      " #   Column                           Non-Null Count  Dtype  \n",
      "---  ------                           --------------  -----  \n",
      " 0   ЗП                               44744 non-null  object \n",
      " 1   Ищет работу на должность:        44744 non-null  object \n",
      " 2   Город, переезд, командировки     44744 non-null  object \n",
      " 3   Занятость                        44744 non-null  object \n",
      " 4   График                           44744 non-null  object \n",
      " 5   Последнее/нынешнее место работы  44743 non-null  object \n",
      " 6   Последняя/нынешняя должность     44742 non-null  object \n",
      " 7   Обновление резюме                44744 non-null  object \n",
      " 8   Авто                             44744 non-null  object \n",
      " 9   Образование                      44744 non-null  object \n",
      " 10  Пол                              44744 non-null  object \n",
      " 11  Возраст                          44744 non-null  int8   \n",
      " 12  Опыт работы (месяц)              44574 non-null  float64\n",
      "dtypes: float64(1), int8(1), object(11)\n",
      "memory usage: 4.1+ MB\n"
     ]
    }
   ],
   "source": [
    "hh_df['Опыт работы (месяц)']=exp_month\n",
    "hh_df=hh_df.drop('Опыт работы',axis=1)\n",
    "hh_df.info()"
   ],
   "metadata": {
    "collapsed": false
   }
  },
  {
   "cell_type": "code",
   "execution_count": 62,
   "outputs": [
    {
     "data": {
      "text/plain": "0        Советск (Калининградская область) , не готов к...\n1        Королев , не готов к переезду , готов к редким...\n2        Тверь , не готова к переезду , не готова к ком...\n3        Саратов , не готов к переезду , готов к редким...\n4        Москва , не готова к переезду , готова к коман...\n                               ...                        \n44739    Тверь , готов к переезду (Москва, Химки) , гот...\n44740    Липецк , готов к переезду , готов к командировкам\n44741    Челябинск , готова к переезду , готова к редки...\n44742    Тамбов , не готов к переезду , не готов к кома...\n44743    Москва , не готов к переезду , не готов к кома...\nName: Город, переезд, командировки, Length: 44744, dtype: object"
     },
     "execution_count": 62,
     "metadata": {},
     "output_type": "execute_result"
    }
   ],
   "source": [
    "hh_df['Город, переезд, командировки']"
   ],
   "metadata": {
    "collapsed": false
   }
  },
  {
   "cell_type": "code",
   "execution_count": 63,
   "outputs": [
    {
     "name": "stdout",
     "output_type": "stream",
     "text": [
      "Москва              16621\n",
      "другие              15854\n",
      "город-миллионник     7332\n",
      "Санкт-Петербург      4937\n",
      "Name: Город, переезд, командировки, dtype: int64\n"
     ]
    }
   ],
   "source": [
    "def city_func(s_m_t):\n",
    "    million_cities = ['Новосибирск', 'Екатеринбург', 'Нижний Новгород', 'Казань', 'Челябинск', 'Омск', 'Самара', 'Ростов-на-Дону', 'Уфа', 'Красноярск', 'Пермь', 'Воронеж', 'Волгоград' ]\n",
    "    city=s_m_t.split(',')[0].strip()\n",
    "    if city in million_cities:\n",
    "        return \"город-миллионник\"\n",
    "    if city == 'Москва' or city == 'Санкт-Петербург':\n",
    "        return city\n",
    "    return 'другие'\n",
    "city=hh_df['Город, переезд, командировки'].apply(city_func)\n",
    "hh_df['Город']=city\n",
    "print(city.value_counts())\n"
   ],
   "metadata": {
    "collapsed": false
   }
  },
  {
   "cell_type": "markdown",
   "source": [
    "**Задание 3.4.1**\n",
    "Сколько процентов соискателей живут в Санкт-Петербурге? Ответ округлите до целого.\n",
    "<span style=\"color:blue\">(***11***)</span>"
   ],
   "metadata": {
    "collapsed": false
   }
  },
  {
   "cell_type": "code",
   "execution_count": 64,
   "outputs": [
    {
     "name": "stdout",
     "output_type": "stream",
     "text": [
      "Москва              37.0\n",
      "другие              35.0\n",
      "город-миллионник    16.0\n",
      "Санкт-Петербург     11.0\n",
      "Name: Город, переезд, командировки, dtype: float64\n"
     ]
    }
   ],
   "source": [
    "print(round(city.value_counts(normalize=1)*100,0))"
   ],
   "metadata": {
    "collapsed": false
   }
  },
  {
   "cell_type": "code",
   "execution_count": 65,
   "outputs": [
    {
     "name": "stdout",
     "output_type": "stream",
     "text": [
      "<class 'pandas.core.frame.DataFrame'>\n",
      "RangeIndex: 44744 entries, 0 to 44743\n",
      "Data columns (total 15 columns):\n",
      " #   Column                           Non-Null Count  Dtype  \n",
      "---  ------                           --------------  -----  \n",
      " 0   ЗП                               44744 non-null  object \n",
      " 1   Ищет работу на должность:        44744 non-null  object \n",
      " 2   Занятость                        44744 non-null  object \n",
      " 3   График                           44744 non-null  object \n",
      " 4   Последнее/нынешнее место работы  44743 non-null  object \n",
      " 5   Последняя/нынешняя должность     44742 non-null  object \n",
      " 6   Обновление резюме                44744 non-null  object \n",
      " 7   Авто                             44744 non-null  object \n",
      " 8   Образование                      44744 non-null  object \n",
      " 9   Пол                              44744 non-null  object \n",
      " 10  Возраст                          44744 non-null  int8   \n",
      " 11  Опыт работы (месяц)              44574 non-null  float64\n",
      " 12  Город                            44744 non-null  object \n",
      " 13  Готовность к переезду            44744 non-null  bool   \n",
      " 14  Готовность к командировкам       44744 non-null  bool   \n",
      "dtypes: bool(2), float64(1), int8(1), object(11)\n",
      "memory usage: 4.2+ MB\n"
     ]
    }
   ],
   "source": [
    "def move_trip_func(s_m_t,ret_type='t'):\n",
    "    if ret_type=='m':\n",
    "        move=s_m_t.split(',')[1].strip()\n",
    "        move_g=move[0:2]\n",
    "        if move_g =='м.':\n",
    "            move=s_m_t.split(',')[2].strip()\n",
    "            move_g=move[0:2]\n",
    "    if ret_type != 'm':\n",
    "        move=s_m_t.split(',')[-1].strip()\n",
    "        move_g=move[0:2]\n",
    "    if move_g=='не':\n",
    "        return False\n",
    "    return True\n",
    "move=hh_df['Город, переезд, командировки'].apply(move_trip_func, args='m')\n",
    "trip=hh_df['Город, переезд, командировки'].apply(move_trip_func)\n",
    "hh_df['Готовность к переезду']=move\n",
    "hh_df['Готовность к командировкам']=trip\n",
    "hh_df=hh_df.drop('Город, переезд, командировки',axis=1)\n",
    "hh_df.info()\n"
   ],
   "metadata": {
    "collapsed": false
   }
  },
  {
   "cell_type": "markdown",
   "source": [
    "**Задание 3.4.2**\n",
    "Сколько процентов соискателей готовы одновременно и к переездам, и к командировкам? Ответ округлите до целого.\n",
    "<span style=\"color:blue\">(***32***)</span>"
   ],
   "metadata": {
    "collapsed": false
   }
  },
  {
   "cell_type": "code",
   "execution_count": 66,
   "outputs": [
    {
     "name": "stdout",
     "output_type": "stream",
     "text": [
      "1    43.0\n",
      "2    32.0\n",
      "0    25.0\n",
      "dtype: float64\n"
     ]
    }
   ],
   "source": [
    "_=hh_df[['Готовность к переезду', 'Готовность к командировкам']].sum(axis=1) #суммируем признаки: 2 True - то что ищем\n",
    "print(round(_.value_counts(normalize=1)*100,0))"
   ],
   "metadata": {
    "collapsed": false
   }
  },
  {
   "cell_type": "code",
   "execution_count": 67,
   "outputs": [
    {
     "name": "stdout",
     "output_type": "stream",
     "text": [
      "<class 'pandas.core.frame.DataFrame'>\n",
      "RangeIndex: 44744 entries, 0 to 44743\n",
      "Data columns (total 15 columns):\n",
      " #   Column                           Non-Null Count  Dtype  \n",
      "---  ------                           --------------  -----  \n",
      " 0   ЗП                               44744 non-null  object \n",
      " 1   Ищет работу на должность:        44744 non-null  object \n",
      " 2   Занятость                        44744 non-null  object \n",
      " 3   График                           44744 non-null  object \n",
      " 4   Последнее/нынешнее место работы  44743 non-null  object \n",
      " 5   Последняя/нынешняя должность     44742 non-null  object \n",
      " 6   Обновление резюме                44744 non-null  object \n",
      " 7   Авто                             44744 non-null  object \n",
      " 8   Образование                      44744 non-null  object \n",
      " 9   Пол                              44744 non-null  object \n",
      " 10  Возраст                          44744 non-null  int8   \n",
      " 11  Опыт работы (месяц)              44574 non-null  float64\n",
      " 12  Город                            44744 non-null  object \n",
      " 13  Готовность к переезду            44744 non-null  bool   \n",
      " 14  Готовность к командировкам       44744 non-null  bool   \n",
      "dtypes: bool(2), float64(1), int8(1), object(11)\n",
      "memory usage: 4.2+ MB\n"
     ]
    }
   ],
   "source": [
    "hh_df.info()"
   ],
   "metadata": {
    "collapsed": false
   }
  },
  {
   "cell_type": "code",
   "execution_count": 68,
   "outputs": [],
   "source": [
    "employment=['полная занятость', 'полный день',\n",
    "            'частичная занятость', 'сменный график',\n",
    "            'проектная работа', 'волонтерство',\n",
    "            'удаленная работа', 'стажировка',\n",
    "            'вахтовый метод', 'гибкий график']\n",
    "empl_shed=hh_df['Занятость']+', '+hh_df['График']\n",
    "\n",
    "for _ in employment:\n",
    "    hh_df[_]=empl_shed.apply(lambda x: _ in x)\n",
    "\n",
    "\n",
    "\n",
    "\n"
   ],
   "metadata": {
    "collapsed": false
   }
  },
  {
   "cell_type": "markdown",
   "source": [
    "**Задание 3.5**\n",
    "Сколько людей ищут проектную работу и волонтёрство (в обоих столбцах стоит True)?\n",
    "<span style=\"color:blue\">(***436***)</span>\n",
    "Сколько людей хотят работать вахтовым методом и с гибким графиком (в обоих столбцах стоит True)?\n",
    "<span style=\"color:blue\">(***2311***)</span>"
   ],
   "metadata": {
    "collapsed": false
   }
  },
  {
   "cell_type": "code",
   "execution_count": 69,
   "outputs": [
    {
     "name": "stdout",
     "output_type": "stream",
     "text": [
      "0    36626\n",
      "1     7682\n",
      "2      436\n",
      "dtype: int64\n",
      "0    28387\n",
      "1    14046\n",
      "2     2311\n",
      "dtype: int64\n"
     ]
    }
   ],
   "source": [
    "_=hh_df[['проектная работа', 'волонтерство']].sum(axis=1)\n",
    "print(_.value_counts())\n",
    "_=hh_df[['вахтовый метод', 'гибкий график']].sum(axis=1)\n",
    "print(_.value_counts())"
   ],
   "metadata": {
    "collapsed": false
   }
  },
  {
   "cell_type": "code",
   "execution_count": 70,
   "outputs": [
    {
     "name": "stdout",
     "output_type": "stream",
     "text": [
      "<class 'pandas.core.frame.DataFrame'>\n",
      "RangeIndex: 44744 entries, 0 to 44743\n",
      "Data columns (total 23 columns):\n",
      " #   Column                           Non-Null Count  Dtype  \n",
      "---  ------                           --------------  -----  \n",
      " 0   ЗП                               44744 non-null  object \n",
      " 1   Ищет работу на должность:        44744 non-null  object \n",
      " 2   Последнее/нынешнее место работы  44743 non-null  object \n",
      " 3   Последняя/нынешняя должность     44742 non-null  object \n",
      " 4   Обновление резюме                44744 non-null  object \n",
      " 5   Авто                             44744 non-null  object \n",
      " 6   Образование                      44744 non-null  object \n",
      " 7   Пол                              44744 non-null  object \n",
      " 8   Возраст                          44744 non-null  int8   \n",
      " 9   Опыт работы (месяц)              44574 non-null  float64\n",
      " 10  Город                            44744 non-null  object \n",
      " 11  Готовность к переезду            44744 non-null  bool   \n",
      " 12  Готовность к командировкам       44744 non-null  bool   \n",
      " 13  полная занятость                 44744 non-null  bool   \n",
      " 14  полный день                      44744 non-null  bool   \n",
      " 15  частичная занятость              44744 non-null  bool   \n",
      " 16  сменный график                   44744 non-null  bool   \n",
      " 17  проектная работа                 44744 non-null  bool   \n",
      " 18  волонтерство                     44744 non-null  bool   \n",
      " 19  удаленная работа                 44744 non-null  bool   \n",
      " 20  стажировка                       44744 non-null  bool   \n",
      " 21  вахтовый метод                   44744 non-null  bool   \n",
      " 22  гибкий график                    44744 non-null  bool   \n",
      "dtypes: bool(12), float64(1), int8(1), object(9)\n",
      "memory usage: 4.0+ MB\n"
     ]
    }
   ],
   "source": [
    "hh_df=hh_df.drop('Занятость',axis=1)\n",
    "hh_df=hh_df.drop('График',axis=1)\n",
    "hh_df.info()"
   ],
   "metadata": {
    "collapsed": false
   }
  },
  {
   "cell_type": "code",
   "execution_count": 71,
   "outputs": [],
   "source": [
    "df_temp = pd.DataFrame([['грн', 'UAH', 10, 'гривна'],\n",
    "                        ['USD', 'USD', 1, 'доллар'],\n",
    "                        ['EUR', 'EUR', 1, 'евро'],\n",
    "                        ['бел.руб.', 'BYN', 1, 'белорусский рубль'],\n",
    "                        ['KGS', 'KGS', 10, 'киргизский сом'],\n",
    "                        ['сум', 'UZS', 10000, 'узбекский сум'],\n",
    "                        ['AZN', 'AZN', 1, 'азербайджанский манат'],\n",
    "                        ['KZT', 'KZT', 100, 'казахстанский тенге']],\n",
    "                       columns=['curr', 'curr_iso', 'proportion', 'curr_desc'])"
   ],
   "metadata": {
    "collapsed": false
   }
  },
  {
   "cell_type": "code",
   "execution_count": 72,
   "outputs": [],
   "source": [
    "exch_rates_df=pd.read_csv('data/ExchangeRates.csv', sep=',')\n",
    "exch_rates_df=exch_rates_df.drop(columns=['per','time','vol','proportion'])"
   ],
   "metadata": {
    "collapsed": false
   }
  },
  {
   "cell_type": "code",
   "execution_count": 73,
   "outputs": [],
   "source": [
    "hh_df['Обновление резюме']=pd.to_datetime(hh_df['Обновление резюме']).dt.date\n",
    "exch_rates_df['date']=pd.to_datetime(exch_rates_df['date']).dt.date"
   ],
   "metadata": {
    "collapsed": false
   }
  },
  {
   "cell_type": "code",
   "execution_count": 74,
   "outputs": [
    {
     "name": "stdout",
     "output_type": "stream",
     "text": [
      "0    2019-04-16\n",
      "1    2019-12-04\n",
      "2    2019-04-16\n",
      "3    2019-08-04\n",
      "4    2019-04-22\n",
      "Name: Обновление резюме, dtype: object\n",
      "0    2017-12-29\n",
      "1    2017-12-30\n",
      "2    2017-12-31\n",
      "3    2018-01-01\n",
      "4    2018-02-01\n",
      "Name: date, dtype: object\n"
     ]
    }
   ],
   "source": [
    "print(hh_df['Обновление резюме'].head())\n",
    "print(exch_rates_df['date'].head())\n"
   ],
   "metadata": {
    "collapsed": false
   }
  },
  {
   "cell_type": "code",
   "execution_count": 75,
   "outputs": [
    {
     "data": {
      "text/plain": "0         29000 руб.\n1         40000 руб.\n2         20000 руб.\n3        100000 руб.\n4        140000 руб.\n            ...     \n44739     50000 руб.\n44740     39000 руб.\n44741     40000 руб.\n44742     20000 руб.\n44743    120000 руб.\nName: ЗП, Length: 44744, dtype: object"
     },
     "execution_count": 75,
     "metadata": {},
     "output_type": "execute_result"
    }
   ],
   "source": [
    "hh_df['ЗП']"
   ],
   "metadata": {
    "collapsed": false
   }
  },
  {
   "cell_type": "code",
   "execution_count": 76,
   "outputs": [],
   "source": [
    "\n",
    "\n",
    "hh_df['Валюта']=hh_df['ЗП'].apply(lambda x: x.split(' ')[-1])\n",
    "hh_df['ЗП']=hh_df['ЗП'].apply(lambda x: x.split(' ')[0])\n",
    "hh_df['ЗП']=hh_df['ЗП'].astype('float')\n"
   ],
   "metadata": {
    "collapsed": false
   }
  },
  {
   "cell_type": "code",
   "execution_count": 77,
   "outputs": [
    {
     "data": {
      "text/plain": "             ЗП Валюта\n0       29000.0   руб.\n1       40000.0   руб.\n2       20000.0   руб.\n3      100000.0   руб.\n4      140000.0   руб.\n...         ...    ...\n44739   50000.0   руб.\n44740   39000.0   руб.\n44741   40000.0   руб.\n44742   20000.0   руб.\n44743  120000.0   руб.\n\n[44744 rows x 2 columns]",
      "text/html": "<div>\n<style scoped>\n    .dataframe tbody tr th:only-of-type {\n        vertical-align: middle;\n    }\n\n    .dataframe tbody tr th {\n        vertical-align: top;\n    }\n\n    .dataframe thead th {\n        text-align: right;\n    }\n</style>\n<table border=\"1\" class=\"dataframe\">\n  <thead>\n    <tr style=\"text-align: right;\">\n      <th></th>\n      <th>ЗП</th>\n      <th>Валюта</th>\n    </tr>\n  </thead>\n  <tbody>\n    <tr>\n      <th>0</th>\n      <td>29000.0</td>\n      <td>руб.</td>\n    </tr>\n    <tr>\n      <th>1</th>\n      <td>40000.0</td>\n      <td>руб.</td>\n    </tr>\n    <tr>\n      <th>2</th>\n      <td>20000.0</td>\n      <td>руб.</td>\n    </tr>\n    <tr>\n      <th>3</th>\n      <td>100000.0</td>\n      <td>руб.</td>\n    </tr>\n    <tr>\n      <th>4</th>\n      <td>140000.0</td>\n      <td>руб.</td>\n    </tr>\n    <tr>\n      <th>...</th>\n      <td>...</td>\n      <td>...</td>\n    </tr>\n    <tr>\n      <th>44739</th>\n      <td>50000.0</td>\n      <td>руб.</td>\n    </tr>\n    <tr>\n      <th>44740</th>\n      <td>39000.0</td>\n      <td>руб.</td>\n    </tr>\n    <tr>\n      <th>44741</th>\n      <td>40000.0</td>\n      <td>руб.</td>\n    </tr>\n    <tr>\n      <th>44742</th>\n      <td>20000.0</td>\n      <td>руб.</td>\n    </tr>\n    <tr>\n      <th>44743</th>\n      <td>120000.0</td>\n      <td>руб.</td>\n    </tr>\n  </tbody>\n</table>\n<p>44744 rows × 2 columns</p>\n</div>"
     },
     "execution_count": 77,
     "metadata": {},
     "output_type": "execute_result"
    }
   ],
   "source": [
    "hh_df[['ЗП','Валюта']]"
   ],
   "metadata": {
    "collapsed": false
   }
  },
  {
   "cell_type": "code",
   "execution_count": 78,
   "outputs": [],
   "source": [
    "hh_df = hh_df.merge(df_temp,\n",
    "                            how='left',\n",
    "                            left_on='Валюта',\n",
    "                            right_on='curr')\n"
   ],
   "metadata": {
    "collapsed": false
   }
  },
  {
   "cell_type": "code",
   "execution_count": 79,
   "outputs": [
    {
     "data": {
      "text/plain": "         ЗП                          Ищет работу на должность:  \\\n0   29000.0                            Системный администратор   \n1   40000.0                               Технический писатель   \n2   20000.0                                           Оператор   \n3  100000.0  Веб-разработчик (HTML / CSS / JS / PHP / базы ...   \n4  140000.0                  Региональный менеджер по продажам   \n\n  Последнее/нынешнее место работы  \\\n0         МАОУ \"СОШ № 1 г.Немана\"   \n1    Временный трудовой коллектив   \n2                    ПАО Сбербанк   \n3                        OpenSoft   \n4                        Мармелад   \n\n                       Последняя/нынешняя должность Обновление резюме  \\\n0                           Системный администратор        2019-04-16   \n1  Менеджер проекта, Аналитик, Технический писатель        2019-12-04   \n2                               Кассир-операционист        2019-04-16   \n3                               Инженер-программист        2019-08-04   \n4                              Менеджер по продажам        2019-04-22   \n\n                             Авто          Образование Пол  Возраст  \\\n0  Имеется собственный автомобиль  неоконченное высшее   М       39   \n1                      Не указано               высшее   М       60   \n2                      Не указано  среднее специальное   Ж       36   \n3                      Не указано               высшее   М       38   \n4                      Не указано               высшее   Ж       26   \n\n   Опыт работы (месяц)  ... волонтерство  удаленная работа  стажировка  \\\n0                202.0  ...        False              True       False   \n1                233.0  ...        False              True       False   \n2                123.0  ...        False             False       False   \n3                225.0  ...        False              True       False   \n4                 67.0  ...        False             False       False   \n\n   вахтовый метод  гибкий график  Валюта  curr  curr_iso  proportion  \\\n0            True           True    руб.   NaN       NaN         NaN   \n1           False           True    руб.   NaN       NaN         NaN   \n2           False          False    руб.   NaN       NaN         NaN   \n3           False           True    руб.   NaN       NaN         NaN   \n4           False          False    руб.   NaN       NaN         NaN   \n\n   curr_desc  \n0        NaN  \n1        NaN  \n2        NaN  \n3        NaN  \n4        NaN  \n\n[5 rows x 28 columns]",
      "text/html": "<div>\n<style scoped>\n    .dataframe tbody tr th:only-of-type {\n        vertical-align: middle;\n    }\n\n    .dataframe tbody tr th {\n        vertical-align: top;\n    }\n\n    .dataframe thead th {\n        text-align: right;\n    }\n</style>\n<table border=\"1\" class=\"dataframe\">\n  <thead>\n    <tr style=\"text-align: right;\">\n      <th></th>\n      <th>ЗП</th>\n      <th>Ищет работу на должность:</th>\n      <th>Последнее/нынешнее место работы</th>\n      <th>Последняя/нынешняя должность</th>\n      <th>Обновление резюме</th>\n      <th>Авто</th>\n      <th>Образование</th>\n      <th>Пол</th>\n      <th>Возраст</th>\n      <th>Опыт работы (месяц)</th>\n      <th>...</th>\n      <th>волонтерство</th>\n      <th>удаленная работа</th>\n      <th>стажировка</th>\n      <th>вахтовый метод</th>\n      <th>гибкий график</th>\n      <th>Валюта</th>\n      <th>curr</th>\n      <th>curr_iso</th>\n      <th>proportion</th>\n      <th>curr_desc</th>\n    </tr>\n  </thead>\n  <tbody>\n    <tr>\n      <th>0</th>\n      <td>29000.0</td>\n      <td>Системный администратор</td>\n      <td>МАОУ \"СОШ № 1 г.Немана\"</td>\n      <td>Системный администратор</td>\n      <td>2019-04-16</td>\n      <td>Имеется собственный автомобиль</td>\n      <td>неоконченное высшее</td>\n      <td>М</td>\n      <td>39</td>\n      <td>202.0</td>\n      <td>...</td>\n      <td>False</td>\n      <td>True</td>\n      <td>False</td>\n      <td>True</td>\n      <td>True</td>\n      <td>руб.</td>\n      <td>NaN</td>\n      <td>NaN</td>\n      <td>NaN</td>\n      <td>NaN</td>\n    </tr>\n    <tr>\n      <th>1</th>\n      <td>40000.0</td>\n      <td>Технический писатель</td>\n      <td>Временный трудовой коллектив</td>\n      <td>Менеджер проекта, Аналитик, Технический писатель</td>\n      <td>2019-12-04</td>\n      <td>Не указано</td>\n      <td>высшее</td>\n      <td>М</td>\n      <td>60</td>\n      <td>233.0</td>\n      <td>...</td>\n      <td>False</td>\n      <td>True</td>\n      <td>False</td>\n      <td>False</td>\n      <td>True</td>\n      <td>руб.</td>\n      <td>NaN</td>\n      <td>NaN</td>\n      <td>NaN</td>\n      <td>NaN</td>\n    </tr>\n    <tr>\n      <th>2</th>\n      <td>20000.0</td>\n      <td>Оператор</td>\n      <td>ПАО Сбербанк</td>\n      <td>Кассир-операционист</td>\n      <td>2019-04-16</td>\n      <td>Не указано</td>\n      <td>среднее специальное</td>\n      <td>Ж</td>\n      <td>36</td>\n      <td>123.0</td>\n      <td>...</td>\n      <td>False</td>\n      <td>False</td>\n      <td>False</td>\n      <td>False</td>\n      <td>False</td>\n      <td>руб.</td>\n      <td>NaN</td>\n      <td>NaN</td>\n      <td>NaN</td>\n      <td>NaN</td>\n    </tr>\n    <tr>\n      <th>3</th>\n      <td>100000.0</td>\n      <td>Веб-разработчик (HTML / CSS / JS / PHP / базы ...</td>\n      <td>OpenSoft</td>\n      <td>Инженер-программист</td>\n      <td>2019-08-04</td>\n      <td>Не указано</td>\n      <td>высшее</td>\n      <td>М</td>\n      <td>38</td>\n      <td>225.0</td>\n      <td>...</td>\n      <td>False</td>\n      <td>True</td>\n      <td>False</td>\n      <td>False</td>\n      <td>True</td>\n      <td>руб.</td>\n      <td>NaN</td>\n      <td>NaN</td>\n      <td>NaN</td>\n      <td>NaN</td>\n    </tr>\n    <tr>\n      <th>4</th>\n      <td>140000.0</td>\n      <td>Региональный менеджер по продажам</td>\n      <td>Мармелад</td>\n      <td>Менеджер по продажам</td>\n      <td>2019-04-22</td>\n      <td>Не указано</td>\n      <td>высшее</td>\n      <td>Ж</td>\n      <td>26</td>\n      <td>67.0</td>\n      <td>...</td>\n      <td>False</td>\n      <td>False</td>\n      <td>False</td>\n      <td>False</td>\n      <td>False</td>\n      <td>руб.</td>\n      <td>NaN</td>\n      <td>NaN</td>\n      <td>NaN</td>\n      <td>NaN</td>\n    </tr>\n  </tbody>\n</table>\n<p>5 rows × 28 columns</p>\n</div>"
     },
     "execution_count": 79,
     "metadata": {},
     "output_type": "execute_result"
    }
   ],
   "source": [
    "hh_df.head()"
   ],
   "metadata": {
    "collapsed": false
   }
  },
  {
   "cell_type": "code",
   "execution_count": 80,
   "outputs": [
    {
     "data": {
      "text/plain": "  currency        date    close\n0      USD  2017-12-29  57.6291\n1      USD  2017-12-30  57.6002\n2      USD  2017-12-31  57.6002\n3      USD  2018-01-01  57.6002\n4      USD  2018-02-01  57.6002",
      "text/html": "<div>\n<style scoped>\n    .dataframe tbody tr th:only-of-type {\n        vertical-align: middle;\n    }\n\n    .dataframe tbody tr th {\n        vertical-align: top;\n    }\n\n    .dataframe thead th {\n        text-align: right;\n    }\n</style>\n<table border=\"1\" class=\"dataframe\">\n  <thead>\n    <tr style=\"text-align: right;\">\n      <th></th>\n      <th>currency</th>\n      <th>date</th>\n      <th>close</th>\n    </tr>\n  </thead>\n  <tbody>\n    <tr>\n      <th>0</th>\n      <td>USD</td>\n      <td>2017-12-29</td>\n      <td>57.6291</td>\n    </tr>\n    <tr>\n      <th>1</th>\n      <td>USD</td>\n      <td>2017-12-30</td>\n      <td>57.6002</td>\n    </tr>\n    <tr>\n      <th>2</th>\n      <td>USD</td>\n      <td>2017-12-31</td>\n      <td>57.6002</td>\n    </tr>\n    <tr>\n      <th>3</th>\n      <td>USD</td>\n      <td>2018-01-01</td>\n      <td>57.6002</td>\n    </tr>\n    <tr>\n      <th>4</th>\n      <td>USD</td>\n      <td>2018-02-01</td>\n      <td>57.6002</td>\n    </tr>\n  </tbody>\n</table>\n</div>"
     },
     "execution_count": 80,
     "metadata": {},
     "output_type": "execute_result"
    }
   ],
   "source": [
    "exch_rates_df.head()"
   ],
   "metadata": {
    "collapsed": false
   }
  },
  {
   "cell_type": "code",
   "execution_count": 81,
   "outputs": [],
   "source": [
    "hh_df=hh_df.drop(columns=['Валюта','curr','curr_desc'])"
   ],
   "metadata": {
    "collapsed": false
   }
  },
  {
   "cell_type": "code",
   "execution_count": 82,
   "outputs": [
    {
     "data": {
      "text/plain": "0    2019-04-16\n1    2019-12-04\n2    2019-04-16\n3    2019-08-04\n4    2019-04-22\nName: Обновление резюме, dtype: object"
     },
     "execution_count": 82,
     "metadata": {},
     "output_type": "execute_result"
    }
   ],
   "source": [
    "hh_df['Обновление резюме'].head()"
   ],
   "metadata": {
    "collapsed": false
   }
  },
  {
   "cell_type": "code",
   "execution_count": 83,
   "outputs": [],
   "source": [
    "hh_df = pd.merge(hh_df,exch_rates_df,\n",
    "                            how='left',\n",
    "                            left_on=['curr_iso','Обновление резюме'],\n",
    "                            right_on=['currency','date'])"
   ],
   "metadata": {
    "collapsed": false
   }
  },
  {
   "cell_type": "code",
   "execution_count": 84,
   "outputs": [],
   "source": [
    "hh_df=hh_df.drop(columns=['curr_iso','currency','date'])\n"
   ],
   "metadata": {
    "collapsed": false
   }
  },
  {
   "cell_type": "code",
   "execution_count": 85,
   "outputs": [
    {
     "name": "stdout",
     "output_type": "stream",
     "text": [
      "<class 'pandas.core.frame.DataFrame'>\n",
      "Int64Index: 44744 entries, 0 to 44743\n",
      "Data columns (total 25 columns):\n",
      " #   Column                           Non-Null Count  Dtype  \n",
      "---  ------                           --------------  -----  \n",
      " 0   ЗП                               44744 non-null  float64\n",
      " 1   Ищет работу на должность:        44744 non-null  object \n",
      " 2   Последнее/нынешнее место работы  44743 non-null  object \n",
      " 3   Последняя/нынешняя должность     44742 non-null  object \n",
      " 4   Обновление резюме                44744 non-null  object \n",
      " 5   Авто                             44744 non-null  object \n",
      " 6   Образование                      44744 non-null  object \n",
      " 7   Пол                              44744 non-null  object \n",
      " 8   Возраст                          44744 non-null  int8   \n",
      " 9   Опыт работы (месяц)              44574 non-null  float64\n",
      " 10  Город                            44744 non-null  object \n",
      " 11  Готовность к переезду            44744 non-null  bool   \n",
      " 12  Готовность к командировкам       44744 non-null  bool   \n",
      " 13  полная занятость                 44744 non-null  bool   \n",
      " 14  полный день                      44744 non-null  bool   \n",
      " 15  частичная занятость              44744 non-null  bool   \n",
      " 16  сменный график                   44744 non-null  bool   \n",
      " 17  проектная работа                 44744 non-null  bool   \n",
      " 18  волонтерство                     44744 non-null  bool   \n",
      " 19  удаленная работа                 44744 non-null  bool   \n",
      " 20  стажировка                       44744 non-null  bool   \n",
      " 21  вахтовый метод                   44744 non-null  bool   \n",
      " 22  гибкий график                    44744 non-null  bool   \n",
      " 23  proportion                       2200 non-null   float64\n",
      " 24  close                            2200 non-null   float64\n",
      "dtypes: bool(12), float64(4), int8(1), object(8)\n",
      "memory usage: 5.0+ MB\n"
     ]
    }
   ],
   "source": [
    "hh_df.info()"
   ],
   "metadata": {
    "collapsed": false
   }
  },
  {
   "cell_type": "code",
   "execution_count": 86,
   "outputs": [],
   "source": [
    "hh_df[['proportion', 'close']] = hh_df[['proportion', 'close']]. fillna (1) #вместо Nan ставим 1"
   ],
   "metadata": {
    "collapsed": false
   }
  },
  {
   "cell_type": "code",
   "execution_count": 87,
   "outputs": [],
   "source": [
    "hh_df[\"ЗП (руб)\"]=hh_df['ЗП']*hh_df['close']/hh_df['proportion']\n"
   ],
   "metadata": {
    "collapsed": false
   }
  },
  {
   "cell_type": "code",
   "execution_count": 88,
   "outputs": [
    {
     "data": {
      "text/plain": "0         29000.0\n1         40000.0\n2         20000.0\n3        100000.0\n4        140000.0\n           ...   \n44739     50000.0\n44740     39000.0\n44741     40000.0\n44742     20000.0\n44743    120000.0\nName: ЗП (руб), Length: 44744, dtype: float64"
     },
     "execution_count": 88,
     "metadata": {},
     "output_type": "execute_result"
    }
   ],
   "source": [
    "hh_df[\"ЗП (руб)\"]"
   ],
   "metadata": {
    "collapsed": false
   }
  },
  {
   "cell_type": "markdown",
   "source": [
    "задача по поиску медианы"
   ],
   "metadata": {
    "collapsed": false
   }
  },
  {
   "cell_type": "code",
   "execution_count": 89,
   "outputs": [
    {
     "data": {
      "text/plain": "58355.729999999996"
     },
     "execution_count": 89,
     "metadata": {},
     "output_type": "execute_result"
    }
   ],
   "source": [
    "hh_df[\"ЗП (руб)\"].median()"
   ],
   "metadata": {
    "collapsed": false
   }
  },
  {
   "cell_type": "code",
   "execution_count": 90,
   "outputs": [
    {
     "name": "stdout",
     "output_type": "stream",
     "text": [
      "<class 'pandas.core.frame.DataFrame'>\n",
      "Int64Index: 44744 entries, 0 to 44743\n",
      "Data columns (total 26 columns):\n",
      " #   Column                           Non-Null Count  Dtype  \n",
      "---  ------                           --------------  -----  \n",
      " 0   ЗП                               44744 non-null  float64\n",
      " 1   Ищет работу на должность:        44744 non-null  object \n",
      " 2   Последнее/нынешнее место работы  44743 non-null  object \n",
      " 3   Последняя/нынешняя должность     44742 non-null  object \n",
      " 4   Обновление резюме                44744 non-null  object \n",
      " 5   Авто                             44744 non-null  object \n",
      " 6   Образование                      44744 non-null  object \n",
      " 7   Пол                              44744 non-null  object \n",
      " 8   Возраст                          44744 non-null  int8   \n",
      " 9   Опыт работы (месяц)              44574 non-null  float64\n",
      " 10  Город                            44744 non-null  object \n",
      " 11  Готовность к переезду            44744 non-null  bool   \n",
      " 12  Готовность к командировкам       44744 non-null  bool   \n",
      " 13  полная занятость                 44744 non-null  bool   \n",
      " 14  полный день                      44744 non-null  bool   \n",
      " 15  частичная занятость              44744 non-null  bool   \n",
      " 16  сменный график                   44744 non-null  bool   \n",
      " 17  проектная работа                 44744 non-null  bool   \n",
      " 18  волонтерство                     44744 non-null  bool   \n",
      " 19  удаленная работа                 44744 non-null  bool   \n",
      " 20  стажировка                       44744 non-null  bool   \n",
      " 21  вахтовый метод                   44744 non-null  bool   \n",
      " 22  гибкий график                    44744 non-null  bool   \n",
      " 23  proportion                       44744 non-null  float64\n",
      " 24  close                            44744 non-null  float64\n",
      " 25  ЗП (руб)                         44744 non-null  float64\n",
      "dtypes: bool(12), float64(5), int8(1), object(8)\n",
      "memory usage: 5.3+ MB\n"
     ]
    }
   ],
   "source": [
    "hh_df.info()"
   ],
   "metadata": {
    "collapsed": false
   }
  },
  {
   "cell_type": "code",
   "execution_count": 91,
   "outputs": [],
   "source": [
    "hh_df=hh_df.drop(columns=['ЗП','proportion','close'], axis=1)"
   ],
   "metadata": {
    "collapsed": false
   }
  },
  {
   "cell_type": "markdown",
   "source": [
    "Анализ данных"
   ],
   "metadata": {
    "collapsed": false
   }
  },
  {
   "cell_type": "code",
   "execution_count": 178,
   "outputs": [
    {
     "name": "stdout",
     "output_type": "stream",
     "text": [
      "count    44744.000000\n",
      "mean        32.196741\n",
      "std          7.929800\n",
      "min         14.000000\n",
      "25%         27.000000\n",
      "50%         31.000000\n",
      "75%         36.000000\n",
      "max        100.000000\n",
      "Name: Возраст, dtype: float64\n",
      "0    30\n",
      "Name: Возраст, dtype: int8\n"
     ]
    },
    {
     "data": {
      "text/plain": "<Figure size 640x480 with 2 Axes>",
      "image/png": "[encoded data removed]"
     },
     "metadata": {},
     "output_type": "display_data"
    }
   ],
   "source": [
    "fig,axes = plt.subplots(1, 2)\n",
    "sns.histplot(hh_df,x='Возраст', ax=axes[0])\n",
    "sns.boxplot(hh_df,x='Возраст', ax=axes[1])\n",
    "print(hh_df['Возраст'].describe())\n",
    "print(hh_df['Возраст'].mode())"
   ],
   "metadata": {
    "collapsed": false
   }
  },
  {
   "cell_type": "code",
   "execution_count": 175,
   "outputs": [
    {
     "name": "stdout",
     "output_type": "stream",
     "text": [
      "count    44744.000000\n",
      "mean        32.196741\n",
      "std          7.929800\n",
      "min         14.000000\n",
      "25%         27.000000\n",
      "50%         31.000000\n",
      "75%         36.000000\n",
      "max        100.000000\n",
      "Name: Возраст, dtype: float64\n",
      "0    30\n",
      "Name: Возраст, dtype: int8\n"
     ]
    }
   ],
   "source": [
    "print(hh_df['Возраст'].describe())\n",
    "print(hh_df['Возраст'].mode())"
   ],
   "metadata": {
    "collapsed": false
   }
  },
  {
   "cell_type": "code",
   "execution_count": 179,
   "outputs": [
    {
     "data": {
      "text/plain": "<AxesSubplot: xlabel='ЗП (руб)', ylabel='Count'>"
     },
     "execution_count": 179,
     "metadata": {},
     "output_type": "execute_result"
    },
    {
     "data": {
      "text/plain": "<Figure size 640x480 with 1 Axes>",
      "image/png": "[encoded data removed]"
     },
     "metadata": {},
     "output_type": "display_data"
    }
   ],
   "source": [
    "sns.histplot(hh_df,x='ЗП (руб)')"
   ],
   "metadata": {
    "collapsed": false
   }
  },
  {
   "cell_type": "code",
   "execution_count": 44,
   "outputs": [
    {
     "name": "stdout",
     "output_type": "stream",
     "text": [
      "<class 'pandas.core.frame.DataFrame'>\n",
      "Int64Index: 44744 entries, 0 to 44743\n",
      "Data columns (total 24 columns):\n",
      " #   Column                           Non-Null Count  Dtype  \n",
      "---  ------                           --------------  -----  \n",
      " 0   ЗП                               44744 non-null  float64\n",
      " 1   Ищет работу на должность:        44744 non-null  object \n",
      " 2   Последнее/нынешнее место работы  44743 non-null  object \n",
      " 3   Последняя/нынешняя должность     44742 non-null  object \n",
      " 4   Обновление резюме                44744 non-null  object \n",
      " 5   Авто                             44744 non-null  object \n",
      " 6   Образование                      44744 non-null  object \n",
      " 7   Пол                              44744 non-null  object \n",
      " 8   Возраст                          44744 non-null  int8   \n",
      " 9   Опыт работы (месяц)              44574 non-null  float64\n",
      " 10  Город                            44744 non-null  object \n",
      " 11  Готовность к переезду            44744 non-null  bool   \n",
      " 12  Готовность к командировкам       44744 non-null  bool   \n",
      " 13  полная занятость                 44744 non-null  bool   \n",
      " 14  частичная занятость              44744 non-null  bool   \n",
      " 15  проектная работа                 44744 non-null  bool   \n",
      " 16  волонтерство                     44744 non-null  bool   \n",
      " 17  полный день                      44744 non-null  bool   \n",
      " 18  удаленная работа                 44744 non-null  bool   \n",
      " 19  вахтовый метод                   44744 non-null  bool   \n",
      " 20  гибкий график                    44744 non-null  bool   \n",
      " 21  proportion                       44744 non-null  float64\n",
      " 22  close                            44744 non-null  float64\n",
      " 23  ЗП (руб)                         44744 non-null  float64\n",
      "dtypes: bool(10), float64(5), int8(1), object(8)\n",
      "memory usage: 5.2+ MB\n"
     ]
    }
   ],
   "source": [
    "hh_df.info()"
   ],
   "metadata": {
    "collapsed": false
   }
  },
  {
   "cell_type": "markdown",
   "source": [
    "**Задание 4.3**\n",
    "Определите по графику, сколько соискателей требуют заработную плату выше 1 миллиона рублей\n",
    "<span style=\"color:blue\">(***5***)</span>"
   ],
   "metadata": {
    "collapsed": false
   }
  },
  {
   "cell_type": "code",
   "execution_count": 106,
   "outputs": [
    {
     "name": "stdout",
     "output_type": "stream",
     "text": [
      "5\n"
     ]
    }
   ],
   "source": [
    "print((hh_df['ЗП (руб)']>1000000).sum())\n"
   ],
   "metadata": {
    "collapsed": false
   }
  },
  {
   "cell_type": "markdown",
   "source": [
    "**Задание 4.4**\n",
    "Какая категория образования оплачивается выше всех по медианному показателю?\n",
    "<span style=\"color:blue\">(***высшее***)</span>"
   ],
   "metadata": {
    "collapsed": false
   }
  },
  {
   "cell_type": "code",
   "execution_count": 132,
   "outputs": [
    {
     "data": {
      "text/plain": "<Figure size 640x480 with 1 Axes>",
      "image/png": "[encoded data removed]"
     },
     "metadata": {},
     "output_type": "display_data"
    }
   ],
   "source": [
    "temp=hh_df.loc[hh_df['ЗП (руб)']<1000000]\n",
    "sns.boxplot(x=temp['ЗП (руб)'], y=temp['Образование'])"
   ],
   "metadata": {
    "collapsed": false
   }
  },
  {
   "cell_type": "code",
   "execution_count": 133,
   "outputs": [
    {
     "data": {
      "text/plain": "<AxesSubplot: xlabel='ЗП (руб)', ylabel='Город'>"
     },
     "execution_count": 133,
     "metadata": {},
     "output_type": "execute_result"
    },
    {
     "data": {
      "text/plain": "<Figure size 640x480 with 1 Axes>",
      "image/png": "[encoded data removed]"
     },
     "metadata": {},
     "output_type": "display_data"
    }
   ],
   "source": [
    "sns.boxplot(x=temp['ЗП (руб)'], y=temp['Город'])"
   ],
   "metadata": {
    "collapsed": false
   }
  },
  {
   "cell_type": "code",
   "execution_count": 136,
   "outputs": [
    {
     "ename": "TypeError",
     "evalue": "numpy boolean subtract, the `-` operator, is not supported, use the bitwise_xor, the `^` operator, or the logical_xor function instead.",
     "output_type": "error",
     "traceback": [
      "\u001B[0;31m---------------------------------------------------------------------------\u001B[0m",
      "\u001B[0;31mTypeError\u001B[0m                                 Traceback (most recent call last)",
      "Cell \u001B[0;32mIn[136], line 1\u001B[0m\n\u001B[0;32m----> 1\u001B[0m \u001B[43msns\u001B[49m\u001B[38;5;241;43m.\u001B[39;49m\u001B[43mboxplot\u001B[49m\u001B[43m(\u001B[49m\u001B[43mx\u001B[49m\u001B[38;5;241;43m=\u001B[39;49m\u001B[43mtemp\u001B[49m\u001B[43m[\u001B[49m\u001B[38;5;124;43m'\u001B[39;49m\u001B[38;5;124;43mЗП (руб)\u001B[39;49m\u001B[38;5;124;43m'\u001B[39;49m\u001B[43m]\u001B[49m\u001B[43m,\u001B[49m\u001B[43m \u001B[49m\u001B[43my\u001B[49m\u001B[38;5;241;43m=\u001B[39;49m\u001B[43mtemp\u001B[49m\u001B[43m[\u001B[49m\u001B[38;5;124;43m'\u001B[39;49m\u001B[38;5;124;43mГотовность к переезду\u001B[39;49m\u001B[38;5;124;43m'\u001B[39;49m\u001B[43m]\u001B[49m\u001B[43m)\u001B[49m\n",
      "File \u001B[0;32m~/Desktop/leaning/data_sc/project_hh/venv/lib/python3.9/site-packages/seaborn/categorical.py:2239\u001B[0m, in \u001B[0;36mboxplot\u001B[0;34m(data, x, y, hue, order, hue_order, orient, color, palette, saturation, width, dodge, fliersize, linewidth, whis, ax, **kwargs)\u001B[0m\n\u001B[1;32m   2236\u001B[0m     ax \u001B[38;5;241m=\u001B[39m plt\u001B[38;5;241m.\u001B[39mgca()\n\u001B[1;32m   2237\u001B[0m kwargs\u001B[38;5;241m.\u001B[39mupdate(\u001B[38;5;28mdict\u001B[39m(whis\u001B[38;5;241m=\u001B[39mwhis))\n\u001B[0;32m-> 2239\u001B[0m \u001B[43mplotter\u001B[49m\u001B[38;5;241;43m.\u001B[39;49m\u001B[43mplot\u001B[49m\u001B[43m(\u001B[49m\u001B[43max\u001B[49m\u001B[43m,\u001B[49m\u001B[43m \u001B[49m\u001B[43mkwargs\u001B[49m\u001B[43m)\u001B[49m\n\u001B[1;32m   2240\u001B[0m \u001B[38;5;28;01mreturn\u001B[39;00m ax\n",
      "File \u001B[0;32m~/Desktop/leaning/data_sc/project_hh/venv/lib/python3.9/site-packages/seaborn/categorical.py:888\u001B[0m, in \u001B[0;36m_BoxPlotter.plot\u001B[0;34m(self, ax, boxplot_kws)\u001B[0m\n\u001B[1;32m    886\u001B[0m \u001B[38;5;28;01mdef\u001B[39;00m \u001B[38;5;21mplot\u001B[39m(\u001B[38;5;28mself\u001B[39m, ax, boxplot_kws):\n\u001B[1;32m    887\u001B[0m \u001B[38;5;250m    \u001B[39m\u001B[38;5;124;03m\"\"\"Make the plot.\"\"\"\u001B[39;00m\n\u001B[0;32m--> 888\u001B[0m     \u001B[38;5;28;43mself\u001B[39;49m\u001B[38;5;241;43m.\u001B[39;49m\u001B[43mdraw_boxplot\u001B[49m\u001B[43m(\u001B[49m\u001B[43max\u001B[49m\u001B[43m,\u001B[49m\u001B[43m \u001B[49m\u001B[43mboxplot_kws\u001B[49m\u001B[43m)\u001B[49m\n\u001B[1;32m    889\u001B[0m     \u001B[38;5;28mself\u001B[39m\u001B[38;5;241m.\u001B[39mannotate_axes(ax)\n\u001B[1;32m    890\u001B[0m     \u001B[38;5;28;01mif\u001B[39;00m \u001B[38;5;28mself\u001B[39m\u001B[38;5;241m.\u001B[39morient \u001B[38;5;241m==\u001B[39m \u001B[38;5;124m\"\u001B[39m\u001B[38;5;124mh\u001B[39m\u001B[38;5;124m\"\u001B[39m:\n",
      "File \u001B[0;32m~/Desktop/leaning/data_sc/project_hh/venv/lib/python3.9/site-packages/seaborn/categorical.py:820\u001B[0m, in \u001B[0;36m_BoxPlotter.draw_boxplot\u001B[0;34m(self, ax, kws)\u001B[0m\n\u001B[1;32m    817\u001B[0m \u001B[38;5;28;01mif\u001B[39;00m box_data\u001B[38;5;241m.\u001B[39msize \u001B[38;5;241m==\u001B[39m \u001B[38;5;241m0\u001B[39m:\n\u001B[1;32m    818\u001B[0m     \u001B[38;5;28;01mcontinue\u001B[39;00m\n\u001B[0;32m--> 820\u001B[0m artist_dict \u001B[38;5;241m=\u001B[39m \u001B[43max\u001B[49m\u001B[38;5;241;43m.\u001B[39;49m\u001B[43mboxplot\u001B[49m\u001B[43m(\u001B[49m\u001B[43mbox_data\u001B[49m\u001B[43m,\u001B[49m\n\u001B[1;32m    821\u001B[0m \u001B[43m                         \u001B[49m\u001B[43mvert\u001B[49m\u001B[38;5;241;43m=\u001B[39;49m\u001B[43mvert\u001B[49m\u001B[43m,\u001B[49m\n\u001B[1;32m    822\u001B[0m \u001B[43m                         \u001B[49m\u001B[43mpatch_artist\u001B[49m\u001B[38;5;241;43m=\u001B[39;49m\u001B[38;5;28;43;01mTrue\u001B[39;49;00m\u001B[43m,\u001B[49m\n\u001B[1;32m    823\u001B[0m \u001B[43m                         \u001B[49m\u001B[43mpositions\u001B[49m\u001B[38;5;241;43m=\u001B[39;49m\u001B[43m[\u001B[49m\u001B[43mi\u001B[49m\u001B[43m]\u001B[49m\u001B[43m,\u001B[49m\n\u001B[1;32m    824\u001B[0m \u001B[43m                         \u001B[49m\u001B[43mwidths\u001B[49m\u001B[38;5;241;43m=\u001B[39;49m\u001B[38;5;28;43mself\u001B[39;49m\u001B[38;5;241;43m.\u001B[39;49m\u001B[43mwidth\u001B[49m\u001B[43m,\u001B[49m\n\u001B[1;32m    825\u001B[0m \u001B[43m                         \u001B[49m\u001B[38;5;241;43m*\u001B[39;49m\u001B[38;5;241;43m*\u001B[39;49m\u001B[43mkws\u001B[49m\u001B[43m)\u001B[49m\n\u001B[1;32m    826\u001B[0m color \u001B[38;5;241m=\u001B[39m \u001B[38;5;28mself\u001B[39m\u001B[38;5;241m.\u001B[39mcolors[i]\n\u001B[1;32m    827\u001B[0m \u001B[38;5;28mself\u001B[39m\u001B[38;5;241m.\u001B[39mrestyle_boxplot(artist_dict, color, props)\n",
      "File \u001B[0;32m~/Desktop/leaning/data_sc/project_hh/venv/lib/python3.9/site-packages/matplotlib/__init__.py:1433\u001B[0m, in \u001B[0;36m_preprocess_data.<locals>.inner\u001B[0;34m(ax, data, *args, **kwargs)\u001B[0m\n\u001B[1;32m   1430\u001B[0m \u001B[38;5;129m@functools\u001B[39m\u001B[38;5;241m.\u001B[39mwraps(func)\n\u001B[1;32m   1431\u001B[0m \u001B[38;5;28;01mdef\u001B[39;00m \u001B[38;5;21minner\u001B[39m(ax, \u001B[38;5;241m*\u001B[39margs, data\u001B[38;5;241m=\u001B[39m\u001B[38;5;28;01mNone\u001B[39;00m, \u001B[38;5;241m*\u001B[39m\u001B[38;5;241m*\u001B[39mkwargs):\n\u001B[1;32m   1432\u001B[0m     \u001B[38;5;28;01mif\u001B[39;00m data \u001B[38;5;129;01mis\u001B[39;00m \u001B[38;5;28;01mNone\u001B[39;00m:\n\u001B[0;32m-> 1433\u001B[0m         \u001B[38;5;28;01mreturn\u001B[39;00m \u001B[43mfunc\u001B[49m\u001B[43m(\u001B[49m\u001B[43max\u001B[49m\u001B[43m,\u001B[49m\u001B[43m \u001B[49m\u001B[38;5;241;43m*\u001B[39;49m\u001B[38;5;28;43mmap\u001B[39;49m\u001B[43m(\u001B[49m\u001B[43msanitize_sequence\u001B[49m\u001B[43m,\u001B[49m\u001B[43m \u001B[49m\u001B[43margs\u001B[49m\u001B[43m)\u001B[49m\u001B[43m,\u001B[49m\u001B[43m \u001B[49m\u001B[38;5;241;43m*\u001B[39;49m\u001B[38;5;241;43m*\u001B[39;49m\u001B[43mkwargs\u001B[49m\u001B[43m)\u001B[49m\n\u001B[1;32m   1435\u001B[0m     bound \u001B[38;5;241m=\u001B[39m new_sig\u001B[38;5;241m.\u001B[39mbind(ax, \u001B[38;5;241m*\u001B[39margs, \u001B[38;5;241m*\u001B[39m\u001B[38;5;241m*\u001B[39mkwargs)\n\u001B[1;32m   1436\u001B[0m     auto_label \u001B[38;5;241m=\u001B[39m (bound\u001B[38;5;241m.\u001B[39marguments\u001B[38;5;241m.\u001B[39mget(label_namer)\n\u001B[1;32m   1437\u001B[0m                   \u001B[38;5;129;01mor\u001B[39;00m bound\u001B[38;5;241m.\u001B[39mkwargs\u001B[38;5;241m.\u001B[39mget(label_namer))\n",
      "File \u001B[0;32m~/Desktop/leaning/data_sc/project_hh/venv/lib/python3.9/site-packages/matplotlib/axes/_axes.py:3856\u001B[0m, in \u001B[0;36mAxes.boxplot\u001B[0;34m(self, x, notch, sym, vert, whis, positions, widths, patch_artist, bootstrap, usermedians, conf_intervals, meanline, showmeans, showcaps, showbox, showfliers, boxprops, labels, flierprops, medianprops, meanprops, capprops, whiskerprops, manage_ticks, autorange, zorder, capwidths)\u001B[0m\n\u001B[1;32m   3853\u001B[0m \u001B[38;5;28;01mif\u001B[39;00m bootstrap \u001B[38;5;129;01mis\u001B[39;00m \u001B[38;5;28;01mNone\u001B[39;00m:\n\u001B[1;32m   3854\u001B[0m     bootstrap \u001B[38;5;241m=\u001B[39m mpl\u001B[38;5;241m.\u001B[39mrcParams[\u001B[38;5;124m'\u001B[39m\u001B[38;5;124mboxplot.bootstrap\u001B[39m\u001B[38;5;124m'\u001B[39m]\n\u001B[0;32m-> 3856\u001B[0m bxpstats \u001B[38;5;241m=\u001B[39m \u001B[43mcbook\u001B[49m\u001B[38;5;241;43m.\u001B[39;49m\u001B[43mboxplot_stats\u001B[49m\u001B[43m(\u001B[49m\u001B[43mx\u001B[49m\u001B[43m,\u001B[49m\u001B[43m \u001B[49m\u001B[43mwhis\u001B[49m\u001B[38;5;241;43m=\u001B[39;49m\u001B[43mwhis\u001B[49m\u001B[43m,\u001B[49m\u001B[43m \u001B[49m\u001B[43mbootstrap\u001B[49m\u001B[38;5;241;43m=\u001B[39;49m\u001B[43mbootstrap\u001B[49m\u001B[43m,\u001B[49m\n\u001B[1;32m   3857\u001B[0m \u001B[43m                               \u001B[49m\u001B[43mlabels\u001B[49m\u001B[38;5;241;43m=\u001B[39;49m\u001B[43mlabels\u001B[49m\u001B[43m,\u001B[49m\u001B[43m \u001B[49m\u001B[43mautorange\u001B[49m\u001B[38;5;241;43m=\u001B[39;49m\u001B[43mautorange\u001B[49m\u001B[43m)\u001B[49m\n\u001B[1;32m   3858\u001B[0m \u001B[38;5;28;01mif\u001B[39;00m notch \u001B[38;5;129;01mis\u001B[39;00m \u001B[38;5;28;01mNone\u001B[39;00m:\n\u001B[1;32m   3859\u001B[0m     notch \u001B[38;5;241m=\u001B[39m mpl\u001B[38;5;241m.\u001B[39mrcParams[\u001B[38;5;124m'\u001B[39m\u001B[38;5;124mboxplot.notch\u001B[39m\u001B[38;5;124m'\u001B[39m]\n",
      "File \u001B[0;32m~/Desktop/leaning/data_sc/project_hh/venv/lib/python3.9/site-packages/matplotlib/cbook/__init__.py:1269\u001B[0m, in \u001B[0;36mboxplot_stats\u001B[0;34m(X, whis, bootstrap, labels, autorange)\u001B[0m\n\u001B[1;32m   1266\u001B[0m stats[\u001B[38;5;124m'\u001B[39m\u001B[38;5;124mmean\u001B[39m\u001B[38;5;124m'\u001B[39m] \u001B[38;5;241m=\u001B[39m np\u001B[38;5;241m.\u001B[39mmean(x)\n\u001B[1;32m   1268\u001B[0m \u001B[38;5;66;03m# medians and quartiles\u001B[39;00m\n\u001B[0;32m-> 1269\u001B[0m q1, med, q3 \u001B[38;5;241m=\u001B[39m \u001B[43mnp\u001B[49m\u001B[38;5;241;43m.\u001B[39;49m\u001B[43mpercentile\u001B[49m\u001B[43m(\u001B[49m\u001B[43mx\u001B[49m\u001B[43m,\u001B[49m\u001B[43m \u001B[49m\u001B[43m[\u001B[49m\u001B[38;5;241;43m25\u001B[39;49m\u001B[43m,\u001B[49m\u001B[43m \u001B[49m\u001B[38;5;241;43m50\u001B[39;49m\u001B[43m,\u001B[49m\u001B[43m \u001B[49m\u001B[38;5;241;43m75\u001B[39;49m\u001B[43m]\u001B[49m\u001B[43m)\u001B[49m\n\u001B[1;32m   1271\u001B[0m \u001B[38;5;66;03m# interquartile range\u001B[39;00m\n\u001B[1;32m   1272\u001B[0m stats[\u001B[38;5;124m'\u001B[39m\u001B[38;5;124miqr\u001B[39m\u001B[38;5;124m'\u001B[39m] \u001B[38;5;241m=\u001B[39m q3 \u001B[38;5;241m-\u001B[39m q1\n",
      "File \u001B[0;32m<__array_function__ internals>:200\u001B[0m, in \u001B[0;36mpercentile\u001B[0;34m(*args, **kwargs)\u001B[0m\n",
      "File \u001B[0;32m~/Desktop/leaning/data_sc/project_hh/venv/lib/python3.9/site-packages/numpy/lib/function_base.py:4205\u001B[0m, in \u001B[0;36mpercentile\u001B[0;34m(a, q, axis, out, overwrite_input, method, keepdims, interpolation)\u001B[0m\n\u001B[1;32m   4203\u001B[0m \u001B[38;5;28;01mif\u001B[39;00m \u001B[38;5;129;01mnot\u001B[39;00m _quantile_is_valid(q):\n\u001B[1;32m   4204\u001B[0m     \u001B[38;5;28;01mraise\u001B[39;00m \u001B[38;5;167;01mValueError\u001B[39;00m(\u001B[38;5;124m\"\u001B[39m\u001B[38;5;124mPercentiles must be in the range [0, 100]\u001B[39m\u001B[38;5;124m\"\u001B[39m)\n\u001B[0;32m-> 4205\u001B[0m \u001B[38;5;28;01mreturn\u001B[39;00m \u001B[43m_quantile_unchecked\u001B[49m\u001B[43m(\u001B[49m\n\u001B[1;32m   4206\u001B[0m \u001B[43m    \u001B[49m\u001B[43ma\u001B[49m\u001B[43m,\u001B[49m\u001B[43m \u001B[49m\u001B[43mq\u001B[49m\u001B[43m,\u001B[49m\u001B[43m \u001B[49m\u001B[43maxis\u001B[49m\u001B[43m,\u001B[49m\u001B[43m \u001B[49m\u001B[43mout\u001B[49m\u001B[43m,\u001B[49m\u001B[43m \u001B[49m\u001B[43moverwrite_input\u001B[49m\u001B[43m,\u001B[49m\u001B[43m \u001B[49m\u001B[43mmethod\u001B[49m\u001B[43m,\u001B[49m\u001B[43m \u001B[49m\u001B[43mkeepdims\u001B[49m\u001B[43m)\u001B[49m\n",
      "File \u001B[0;32m~/Desktop/leaning/data_sc/project_hh/venv/lib/python3.9/site-packages/numpy/lib/function_base.py:4473\u001B[0m, in \u001B[0;36m_quantile_unchecked\u001B[0;34m(a, q, axis, out, overwrite_input, method, keepdims)\u001B[0m\n\u001B[1;32m   4465\u001B[0m \u001B[38;5;28;01mdef\u001B[39;00m \u001B[38;5;21m_quantile_unchecked\u001B[39m(a,\n\u001B[1;32m   4466\u001B[0m                         q,\n\u001B[1;32m   4467\u001B[0m                         axis\u001B[38;5;241m=\u001B[39m\u001B[38;5;28;01mNone\u001B[39;00m,\n\u001B[0;32m   (...)\u001B[0m\n\u001B[1;32m   4470\u001B[0m                         method\u001B[38;5;241m=\u001B[39m\u001B[38;5;124m\"\u001B[39m\u001B[38;5;124mlinear\u001B[39m\u001B[38;5;124m\"\u001B[39m,\n\u001B[1;32m   4471\u001B[0m                         keepdims\u001B[38;5;241m=\u001B[39m\u001B[38;5;28;01mFalse\u001B[39;00m):\n\u001B[1;32m   4472\u001B[0m \u001B[38;5;250m    \u001B[39m\u001B[38;5;124;03m\"\"\"Assumes that q is in [0, 1], and is an ndarray\"\"\"\u001B[39;00m\n\u001B[0;32m-> 4473\u001B[0m     \u001B[38;5;28;01mreturn\u001B[39;00m \u001B[43m_ureduce\u001B[49m\u001B[43m(\u001B[49m\u001B[43ma\u001B[49m\u001B[43m,\u001B[49m\n\u001B[1;32m   4474\u001B[0m \u001B[43m                    \u001B[49m\u001B[43mfunc\u001B[49m\u001B[38;5;241;43m=\u001B[39;49m\u001B[43m_quantile_ureduce_func\u001B[49m\u001B[43m,\u001B[49m\n\u001B[1;32m   4475\u001B[0m \u001B[43m                    \u001B[49m\u001B[43mq\u001B[49m\u001B[38;5;241;43m=\u001B[39;49m\u001B[43mq\u001B[49m\u001B[43m,\u001B[49m\n\u001B[1;32m   4476\u001B[0m \u001B[43m                    \u001B[49m\u001B[43mkeepdims\u001B[49m\u001B[38;5;241;43m=\u001B[39;49m\u001B[43mkeepdims\u001B[49m\u001B[43m,\u001B[49m\n\u001B[1;32m   4477\u001B[0m \u001B[43m                    \u001B[49m\u001B[43maxis\u001B[49m\u001B[38;5;241;43m=\u001B[39;49m\u001B[43maxis\u001B[49m\u001B[43m,\u001B[49m\n\u001B[1;32m   4478\u001B[0m \u001B[43m                    \u001B[49m\u001B[43mout\u001B[49m\u001B[38;5;241;43m=\u001B[39;49m\u001B[43mout\u001B[49m\u001B[43m,\u001B[49m\n\u001B[1;32m   4479\u001B[0m \u001B[43m                    \u001B[49m\u001B[43moverwrite_input\u001B[49m\u001B[38;5;241;43m=\u001B[39;49m\u001B[43moverwrite_input\u001B[49m\u001B[43m,\u001B[49m\n\u001B[1;32m   4480\u001B[0m \u001B[43m                    \u001B[49m\u001B[43mmethod\u001B[49m\u001B[38;5;241;43m=\u001B[39;49m\u001B[43mmethod\u001B[49m\u001B[43m)\u001B[49m\n",
      "File \u001B[0;32m~/Desktop/leaning/data_sc/project_hh/venv/lib/python3.9/site-packages/numpy/lib/function_base.py:3752\u001B[0m, in \u001B[0;36m_ureduce\u001B[0;34m(a, func, keepdims, **kwargs)\u001B[0m\n\u001B[1;32m   3749\u001B[0m             index_out \u001B[38;5;241m=\u001B[39m (\u001B[38;5;241m0\u001B[39m, ) \u001B[38;5;241m*\u001B[39m nd\n\u001B[1;32m   3750\u001B[0m             kwargs[\u001B[38;5;124m'\u001B[39m\u001B[38;5;124mout\u001B[39m\u001B[38;5;124m'\u001B[39m] \u001B[38;5;241m=\u001B[39m out[(\u001B[38;5;28mEllipsis\u001B[39m, ) \u001B[38;5;241m+\u001B[39m index_out]\n\u001B[0;32m-> 3752\u001B[0m r \u001B[38;5;241m=\u001B[39m \u001B[43mfunc\u001B[49m\u001B[43m(\u001B[49m\u001B[43ma\u001B[49m\u001B[43m,\u001B[49m\u001B[43m \u001B[49m\u001B[38;5;241;43m*\u001B[39;49m\u001B[38;5;241;43m*\u001B[39;49m\u001B[43mkwargs\u001B[49m\u001B[43m)\u001B[49m\n\u001B[1;32m   3754\u001B[0m \u001B[38;5;28;01mif\u001B[39;00m out \u001B[38;5;129;01mis\u001B[39;00m \u001B[38;5;129;01mnot\u001B[39;00m \u001B[38;5;28;01mNone\u001B[39;00m:\n\u001B[1;32m   3755\u001B[0m     \u001B[38;5;28;01mreturn\u001B[39;00m out\n",
      "File \u001B[0;32m~/Desktop/leaning/data_sc/project_hh/venv/lib/python3.9/site-packages/numpy/lib/function_base.py:4639\u001B[0m, in \u001B[0;36m_quantile_ureduce_func\u001B[0;34m(a, q, axis, out, overwrite_input, method)\u001B[0m\n\u001B[1;32m   4637\u001B[0m     \u001B[38;5;28;01melse\u001B[39;00m:\n\u001B[1;32m   4638\u001B[0m         arr \u001B[38;5;241m=\u001B[39m a\u001B[38;5;241m.\u001B[39mcopy()\n\u001B[0;32m-> 4639\u001B[0m result \u001B[38;5;241m=\u001B[39m \u001B[43m_quantile\u001B[49m\u001B[43m(\u001B[49m\u001B[43marr\u001B[49m\u001B[43m,\u001B[49m\n\u001B[1;32m   4640\u001B[0m \u001B[43m                   \u001B[49m\u001B[43mquantiles\u001B[49m\u001B[38;5;241;43m=\u001B[39;49m\u001B[43mq\u001B[49m\u001B[43m,\u001B[49m\n\u001B[1;32m   4641\u001B[0m \u001B[43m                   \u001B[49m\u001B[43maxis\u001B[49m\u001B[38;5;241;43m=\u001B[39;49m\u001B[43maxis\u001B[49m\u001B[43m,\u001B[49m\n\u001B[1;32m   4642\u001B[0m \u001B[43m                   \u001B[49m\u001B[43mmethod\u001B[49m\u001B[38;5;241;43m=\u001B[39;49m\u001B[43mmethod\u001B[49m\u001B[43m,\u001B[49m\n\u001B[1;32m   4643\u001B[0m \u001B[43m                   \u001B[49m\u001B[43mout\u001B[49m\u001B[38;5;241;43m=\u001B[39;49m\u001B[43mout\u001B[49m\u001B[43m)\u001B[49m\n\u001B[1;32m   4644\u001B[0m \u001B[38;5;28;01mreturn\u001B[39;00m result\n",
      "File \u001B[0;32m~/Desktop/leaning/data_sc/project_hh/venv/lib/python3.9/site-packages/numpy/lib/function_base.py:4756\u001B[0m, in \u001B[0;36m_quantile\u001B[0;34m(arr, quantiles, axis, method, out)\u001B[0m\n\u001B[1;32m   4754\u001B[0m     result_shape \u001B[38;5;241m=\u001B[39m virtual_indexes\u001B[38;5;241m.\u001B[39mshape \u001B[38;5;241m+\u001B[39m (\u001B[38;5;241m1\u001B[39m,) \u001B[38;5;241m*\u001B[39m (arr\u001B[38;5;241m.\u001B[39mndim \u001B[38;5;241m-\u001B[39m \u001B[38;5;241m1\u001B[39m)\n\u001B[1;32m   4755\u001B[0m     gamma \u001B[38;5;241m=\u001B[39m gamma\u001B[38;5;241m.\u001B[39mreshape(result_shape)\n\u001B[0;32m-> 4756\u001B[0m     result \u001B[38;5;241m=\u001B[39m \u001B[43m_lerp\u001B[49m\u001B[43m(\u001B[49m\u001B[43mprevious\u001B[49m\u001B[43m,\u001B[49m\n\u001B[1;32m   4757\u001B[0m \u001B[43m                   \u001B[49m\u001B[38;5;28;43mnext\u001B[39;49m\u001B[43m,\u001B[49m\n\u001B[1;32m   4758\u001B[0m \u001B[43m                   \u001B[49m\u001B[43mgamma\u001B[49m\u001B[43m,\u001B[49m\n\u001B[1;32m   4759\u001B[0m \u001B[43m                   \u001B[49m\u001B[43mout\u001B[49m\u001B[38;5;241;43m=\u001B[39;49m\u001B[43mout\u001B[49m\u001B[43m)\u001B[49m\n\u001B[1;32m   4760\u001B[0m \u001B[38;5;28;01mif\u001B[39;00m np\u001B[38;5;241m.\u001B[39many(slices_having_nans):\n\u001B[1;32m   4761\u001B[0m     \u001B[38;5;28;01mif\u001B[39;00m result\u001B[38;5;241m.\u001B[39mndim \u001B[38;5;241m==\u001B[39m \u001B[38;5;241m0\u001B[39m \u001B[38;5;129;01mand\u001B[39;00m out \u001B[38;5;129;01mis\u001B[39;00m \u001B[38;5;28;01mNone\u001B[39;00m:\n\u001B[1;32m   4762\u001B[0m         \u001B[38;5;66;03m# can't write to a scalar\u001B[39;00m\n",
      "File \u001B[0;32m~/Desktop/leaning/data_sc/project_hh/venv/lib/python3.9/site-packages/numpy/lib/function_base.py:4573\u001B[0m, in \u001B[0;36m_lerp\u001B[0;34m(a, b, t, out)\u001B[0m\n\u001B[1;32m   4559\u001B[0m \u001B[38;5;28;01mdef\u001B[39;00m \u001B[38;5;21m_lerp\u001B[39m(a, b, t, out\u001B[38;5;241m=\u001B[39m\u001B[38;5;28;01mNone\u001B[39;00m):\n\u001B[1;32m   4560\u001B[0m \u001B[38;5;250m    \u001B[39m\u001B[38;5;124;03m\"\"\"\u001B[39;00m\n\u001B[1;32m   4561\u001B[0m \u001B[38;5;124;03m    Compute the linear interpolation weighted by gamma on each point of\u001B[39;00m\n\u001B[1;32m   4562\u001B[0m \u001B[38;5;124;03m    two same shape array.\u001B[39;00m\n\u001B[0;32m   (...)\u001B[0m\n\u001B[1;32m   4571\u001B[0m \u001B[38;5;124;03m        Output array.\u001B[39;00m\n\u001B[1;32m   4572\u001B[0m \u001B[38;5;124;03m    \"\"\"\u001B[39;00m\n\u001B[0;32m-> 4573\u001B[0m     diff_b_a \u001B[38;5;241m=\u001B[39m \u001B[43msubtract\u001B[49m\u001B[43m(\u001B[49m\u001B[43mb\u001B[49m\u001B[43m,\u001B[49m\u001B[43m \u001B[49m\u001B[43ma\u001B[49m\u001B[43m)\u001B[49m\n\u001B[1;32m   4574\u001B[0m     \u001B[38;5;66;03m# asanyarray is a stop-gap until gh-13105\u001B[39;00m\n\u001B[1;32m   4575\u001B[0m     lerp_interpolation \u001B[38;5;241m=\u001B[39m asanyarray(add(a, diff_b_a \u001B[38;5;241m*\u001B[39m t, out\u001B[38;5;241m=\u001B[39mout))\n",
      "\u001B[0;31mTypeError\u001B[0m: numpy boolean subtract, the `-` operator, is not supported, use the bitwise_xor, the `^` operator, or the logical_xor function instead."
     ]
    },
    {
     "data": {
      "text/plain": "<Figure size 640x480 with 1 Axes>",
      "image/png": "[encoded data removed]"
     },
     "metadata": {},
     "output_type": "display_data"
    }
   ],
   "source": [
    "sns.boxplot(x=temp['ЗП (руб)'], y=temp['Готовность к переезду'])"
   ],
   "metadata": {
    "collapsed": false
   }
  },
  {
   "cell_type": "code",
   "execution_count": 144,
   "outputs": [
    {
     "name": "stderr",
     "output_type": "stream",
     "text": [
      "/var/folders/vl/rl8w57qj6yg_gj8y80z0h3vw0000gn/T/ipykernel_53669/356221247.py:1: SettingWithCopyWarning: \n",
      "A value is trying to be set on a copy of a slice from a DataFrame.\n",
      "Try using .loc[row_indexer,col_indexer] = value instead\n",
      "\n",
      "See the caveats in the documentation: https://pandas.pydata.org/pandas-docs/stable/user_guide/indexing.html#returning-a-view-versus-a-copy\n",
      "  temp['ГПК']=temp['Готовность к переезду'].apply(lambda x: 'готов к переезду' if x==True else 'Не готов к переезду')\n"
     ]
    }
   ],
   "source": [
    "temp['ГП']=temp['Готовность к переезду'].apply(lambda x: 'готов к переезду' if x==True else 'Не готов к переезду')"
   ],
   "metadata": {
    "collapsed": false
   }
  },
  {
   "cell_type": "code",
   "execution_count": 148,
   "outputs": [],
   "source": [
    "hh_df['ГК']=hh_df['Готовность к командировкам'].apply(lambda x: 'готов к командировке' if x==True else 'Не готов к командировке')"
   ],
   "metadata": {
    "collapsed": false
   }
  },
  {
   "cell_type": "code",
   "execution_count": 149,
   "outputs": [
    {
     "data": {
      "text/plain": "<AxesSubplot: xlabel='ЗП (руб)', ylabel='ГК'>"
     },
     "execution_count": 149,
     "metadata": {},
     "output_type": "execute_result"
    },
    {
     "data": {
      "text/plain": "<Figure size 640x480 with 1 Axes>",
      "image/png": "[encoded data removed]"
     },
     "metadata": {},
     "output_type": "display_data"
    }
   ],
   "source": [
    "sns.boxplot(x=temp['ЗП (руб)'], y=temp['ГК'])"
   ],
   "metadata": {
    "collapsed": false
   }
  },
  {
   "cell_type": "code",
   "execution_count": null,
   "outputs": [],
   "source": [],
   "metadata": {
    "collapsed": false
   }
  }
 ],
 "metadata": {
  "kernelspec": {
   "display_name": "Python 3 (ipykernel)",
   "language": "python",
   "name": "python3"
  },
  "language_info": {
   "codemirror_mode": {
    "name": "ipython",
    "version": 3
   },
   "file_extension": ".py",
   "mimetype": "text/x-python",
   "name": "python",
   "nbconvert_exporter": "python",
   "pygments_lexer": "ipython3",
   "version": "3.9.7"
  }
 },
 "nbformat": 4,
 "nbformat_minor": 5
}
